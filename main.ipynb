{
 "cells": [
  {
   "cell_type": "code",
   "execution_count": 5,
   "id": "0da3c4b6",
   "metadata": {},
   "outputs": [],
   "source": [
    "from qutip import *\n",
    "import numpy as np\n",
    "import matplotlib.pyplot as plt"
   ]
  },
  {
   "cell_type": "code",
   "execution_count": 6,
   "id": "a590c855",
   "metadata": {},
   "outputs": [],
   "source": [
    "# We build the Heisenberg Hamiltonian in the product basis\n",
    "J12 = 1\n",
    "J23 = 1\n",
    "J34 = 2\n",
    "B = 0\n",
    "\n",
    "term12 = (J12/4)*(tensor(sigmax(), sigmax(), qeye(2), qeye(2)) + tensor(sigmay(), sigmay(), qeye(2), qeye(2)) + tensor(sigmaz(), sigmaz(), qeye(2), qeye(2)) - tensor(qeye(2), qeye(2), qeye(2), qeye(2)))\n",
    "term23 = (J23/4)*(tensor(qeye(2), sigmax(), sigmax(), qeye(2)) + tensor(qeye(2), sigmay(), sigmay(), qeye(2)) + tensor(qeye(2), sigmaz(), sigmaz(), qeye(2)) - tensor(qeye(2), qeye(2), qeye(2), qeye(2)))\n",
    "term34 = (J34/4)*(tensor(qeye(2), qeye(2), sigmax(), sigmax()) + tensor(qeye(2), qeye(2), sigmay(), sigmay()) + tensor(qeye(2), qeye(2), sigmaz(), sigmaz()) - tensor(qeye(2), qeye(2), qeye(2), qeye(2)))\n",
    "mfieldterm = B*(tensor(sigmaz(), qeye(2), qeye(2), qeye(2)) + tensor(qeye(2), sigmaz(), qeye(2), qeye(2)) + tensor(qeye(2), qeye(2), sigmaz(), qeye(2)) + tensor(qeye(2), qeye(2), qeye(2), sigmaz()))\n",
    "\n",
    "# We define the Hamiltonian as Quantum Object class\n",
    "H_QO = term12 + term23 + term34 + mfieldterm\n",
    "\n",
    "# We define the Hamiltonian as numpy array class\n",
    "H_A = np.array(H_QO)"
   ]
  },
  {
   "cell_type": "code",
   "execution_count": 7,
   "id": "6a50fa19",
   "metadata": {},
   "outputs": [
    {
     "data": {
      "text/latex": [
       "Quantum object: dims = [[2, 2, 2, 2], [2, 2, 2, 2]], shape = (16, 16), type = oper, isherm = True\\begin{equation*}\\left(\\begin{array}{*{11}c}0.0 & 0.0 & 0.0 & 0.0 & 0.0 & \\cdots & 0.0 & 0.0 & 0.0 & 0.0 & 0.0\\\\0.0 & -1.0 & 1.0 & 0.0 & 0.0 & \\cdots & 0.0 & 0.0 & 0.0 & 0.0 & 0.0\\\\0.0 & 1.0 & -1.500 & 0.0 & 0.500 & \\cdots & 0.0 & 0.0 & 0.0 & 0.0 & 0.0\\\\0.0 & 0.0 & 0.0 & -0.500 & 0.0 & \\cdots & 0.0 & 0.0 & 0.0 & 0.0 & 0.0\\\\0.0 & 0.0 & 0.500 & 0.0 & -1.0 & \\cdots & 0.0 & 0.0 & 0.0 & 0.0 & 0.0\\\\\\vdots & \\vdots & \\vdots & \\vdots & \\vdots & \\ddots & \\vdots & \\vdots & \\vdots & \\vdots & \\vdots\\\\0.0 & 0.0 & 0.0 & 0.0 & 0.0 & \\cdots & -1.0 & 0.0 & 0.500 & 0.0 & 0.0\\\\0.0 & 0.0 & 0.0 & 0.0 & 0.0 & \\cdots & 0.0 & -0.500 & 0.0 & 0.0 & 0.0\\\\0.0 & 0.0 & 0.0 & 0.0 & 0.0 & \\cdots & 0.500 & 0.0 & -1.500 & 1.0 & 0.0\\\\0.0 & 0.0 & 0.0 & 0.0 & 0.0 & \\cdots & 0.0 & 0.0 & 1.0 & -1.0 & 0.0\\\\0.0 & 0.0 & 0.0 & 0.0 & 0.0 & \\cdots & 0.0 & 0.0 & 0.0 & 0.0 & 0.0\\\\\\end{array}\\right)\\end{equation*}"
      ],
      "text/plain": [
       "Quantum object: dims = [[2, 2, 2, 2], [2, 2, 2, 2]], shape = (16, 16), type = oper, isherm = True\n",
       "Qobj data =\n",
       "[[ 0.   0.   0.   0.   0.   0.   0.   0.   0.   0.   0.   0.   0.   0.\n",
       "   0.   0. ]\n",
       " [ 0.  -1.   1.   0.   0.   0.   0.   0.   0.   0.   0.   0.   0.   0.\n",
       "   0.   0. ]\n",
       " [ 0.   1.  -1.5  0.   0.5  0.   0.   0.   0.   0.   0.   0.   0.   0.\n",
       "   0.   0. ]\n",
       " [ 0.   0.   0.  -0.5  0.   0.5  0.   0.   0.   0.   0.   0.   0.   0.\n",
       "   0.   0. ]\n",
       " [ 0.   0.   0.5  0.  -1.   0.   0.   0.   0.5  0.   0.   0.   0.   0.\n",
       "   0.   0. ]\n",
       " [ 0.   0.   0.   0.5  0.  -2.   1.   0.   0.   0.5  0.   0.   0.   0.\n",
       "   0.   0. ]\n",
       " [ 0.   0.   0.   0.   0.   1.  -1.5  0.   0.   0.   0.5  0.   0.   0.\n",
       "   0.   0. ]\n",
       " [ 0.   0.   0.   0.   0.   0.   0.  -0.5  0.   0.   0.   0.5  0.   0.\n",
       "   0.   0. ]\n",
       " [ 0.   0.   0.   0.   0.5  0.   0.   0.  -0.5  0.   0.   0.   0.   0.\n",
       "   0.   0. ]\n",
       " [ 0.   0.   0.   0.   0.   0.5  0.   0.   0.  -1.5  1.   0.   0.   0.\n",
       "   0.   0. ]\n",
       " [ 0.   0.   0.   0.   0.   0.   0.5  0.   0.   1.  -2.   0.   0.5  0.\n",
       "   0.   0. ]\n",
       " [ 0.   0.   0.   0.   0.   0.   0.   0.5  0.   0.   0.  -1.   0.   0.5\n",
       "   0.   0. ]\n",
       " [ 0.   0.   0.   0.   0.   0.   0.   0.   0.   0.   0.5  0.  -0.5  0.\n",
       "   0.   0. ]\n",
       " [ 0.   0.   0.   0.   0.   0.   0.   0.   0.   0.   0.   0.5  0.  -1.5\n",
       "   1.   0. ]\n",
       " [ 0.   0.   0.   0.   0.   0.   0.   0.   0.   0.   0.   0.   0.   1.\n",
       "  -1.   0. ]\n",
       " [ 0.   0.   0.   0.   0.   0.   0.   0.   0.   0.   0.   0.   0.   0.\n",
       "   0.   0. ]]"
      ]
     },
     "execution_count": 7,
     "metadata": {},
     "output_type": "execute_result"
    }
   ],
   "source": [
    "# We want to see the tridiagonal shape of the Hamiltonian (Quantum Object)\n",
    "H_QO"
   ]
  },
  {
   "cell_type": "code",
   "execution_count": 8,
   "id": "ae74efe1",
   "metadata": {},
   "outputs": [
    {
     "name": "stderr",
     "output_type": "stream",
     "text": [
      "<ipython-input-8-8c2e3f531a07>:2: ComplexWarning: Casting complex values to real discards the imaginary part\n",
      "  H_A = H_A.astype('float64')\n"
     ]
    }
   ],
   "source": [
    "# We change the type of the array, from complex to float\n",
    "H_A = H_A.astype('float64')"
   ]
  },
  {
   "cell_type": "code",
   "execution_count": 9,
   "id": "06b25159",
   "metadata": {},
   "outputs": [
    {
     "data": {
      "text/plain": [
       "<matplotlib.colorbar.Colorbar at 0x1c9dfc61af0>"
      ]
     },
     "execution_count": 9,
     "metadata": {},
     "output_type": "execute_result"
    },
    {
     "data": {
      "image/png": "[encoded data removed]",
      "text/plain": [
       "<Figure size 432x288 with 2 Axes>"
      ]
     },
     "metadata": {
      "needs_background": "light"
     },
     "output_type": "display_data"
    }
   ],
   "source": [
    "# We see how this looks like in a 2D plot, for this we have to turn into a\n",
    "plt.figure()\n",
    "plt.imshow(H_A, alpha=0.8, cmap='YlGn_r')\n",
    "plt.xlabel('Column')\n",
    "plt.ylabel('Row')\n",
    "plt.title('Matrix')\n",
    "plt.colorbar()"
   ]
  },
  {
   "cell_type": "code",
   "execution_count": 10,
   "id": "fdf940fa",
   "metadata": {},
   "outputs": [],
   "source": [
    "# We build the singlet and triplet vectors in the product basis (computational basis)\n",
    "# These are all Quantum Objects\n",
    "S = (basis(4,1) - basis(4,2)).unit()\n",
    "T0 = (basis(4,1) + basis(4,2)).unit()\n",
    "Tplus = basis(4,0)\n",
    "Tminus = basis(4,3)"
   ]
  },
  {
   "cell_type": "code",
   "execution_count": 11,
   "id": "47fefc4e",
   "metadata": {},
   "outputs": [],
   "source": [
    "# We manually build the vector that we use in the basis of interest for the paper (TABLE I)\n",
    "S0 = tensor(S,S)\n",
    "S1 = (tensor(Tplus,Tminus) + tensor(Tminus,Tplus) - tensor(T0,T0)).unit()\n",
    "T00 = tensor(S,T0)\n",
    "T01 = tensor(T0,S)\n",
    "T02 = (tensor(Tplus,Tminus) - tensor(Tminus,Tplus)).unit()\n",
    "TP0 = tensor(S,Tplus)\n",
    "TP1 = tensor(Tplus,S)\n",
    "TP2 = (tensor(T0,Tplus) - tensor(Tplus,T0)).unit()\n",
    "TM0 = tensor(S,Tminus)\n",
    "TM1 = tensor(Tminus,S)\n",
    "TM2 = (tensor(T0,Tminus) - tensor(Tminus,T0)).unit() \n",
    "Q0 = (tensor(Tplus,Tminus) + tensor(Tminus,Tplus) + 2*tensor(T0,T0)).unit()\n",
    "QP = (tensor(T0,Tplus) + tensor(Tplus,T0)).unit()\n",
    "QM = (tensor(T0,Tminus) + tensor(Tminus,T0)).unit()\n",
    "QPP = tensor(Tplus,Tplus)\n",
    "QMM = tensor(Tminus,Tminus)"
   ]
  },
  {
   "cell_type": "code",
   "execution_count": 12,
   "id": "bda464d5",
   "metadata": {},
   "outputs": [
    {
     "data": {
      "text/latex": [
       "Quantum object: dims = [[4, 4], [1, 1]], shape = (16, 1), type = ket\\begin{equation*}\\left(\\begin{array}{*{11}c}0.0\\\\0.0\\\\0.0\\\\0.0\\\\0.0\\\\\\vdots\\\\0.0\\\\0.0\\\\0.0\\\\0.0\\\\1.0\\\\\\end{array}\\right)\\end{equation*}"
      ],
      "text/plain": [
       "Quantum object: dims = [[4, 4], [1, 1]], shape = (16, 1), type = ket\n",
       "Qobj data =\n",
       "[[0.]\n",
       " [0.]\n",
       " [0.]\n",
       " [0.]\n",
       " [0.]\n",
       " [0.]\n",
       " [0.]\n",
       " [0.]\n",
       " [0.]\n",
       " [0.]\n",
       " [0.]\n",
       " [0.]\n",
       " [0.]\n",
       " [0.]\n",
       " [0.]\n",
       " [1.]]"
      ]
     },
     "execution_count": 12,
     "metadata": {},
     "output_type": "execute_result"
    }
   ],
   "source": [
    "QMM # This vector is dddd (d = down arrow), also characterized as 1111."
   ]
  },
  {
   "cell_type": "code",
   "execution_count": 13,
   "id": "c99be373",
   "metadata": {},
   "outputs": [
    {
     "name": "stdout",
     "output_type": "stream",
     "text": [
      "Quantum object: dims = [[4, 4], [1, 1]], shape = (16, 1), type = ket\n",
      "Qobj data =\n",
      "[[ 0. ]\n",
      " [ 0. ]\n",
      " [ 0. ]\n",
      " [ 0. ]\n",
      " [ 0. ]\n",
      " [ 0.5]\n",
      " [-0.5]\n",
      " [ 0. ]\n",
      " [ 0. ]\n",
      " [-0.5]\n",
      " [ 0.5]\n",
      " [ 0. ]\n",
      " [ 0. ]\n",
      " [ 0. ]\n",
      " [ 0. ]\n",
      " [ 0. ]]\n",
      "[ 0. +0.j  0. +0.j  0. +0.j  0. +0.j  0. +0.j  0.5+0.j -0.5+0.j  0. +0.j\n",
      "  0. +0.j -0.5+0.j  0.5+0.j  0. +0.j  0. +0.j  0. +0.j  0. +0.j  0. +0.j]\n"
     ]
    }
   ],
   "source": [
    "# We try how one of these vectors look like\n",
    "print(S0)\n",
    "\n",
    "# We see that if we want to access the vector as a numpy array (row!) list we have to do the following\n",
    "print(np.array(S0.trans()[0][0]))"
   ]
  },
  {
   "cell_type": "code",
   "execution_count": 14,
   "id": "060d2aa6",
   "metadata": {},
   "outputs": [],
   "source": [
    "# Now we create an emptey matrix that will be the one that we will use to change basis to the Hamiltonian\n",
    "# So we want to add the 16 vectors that we obtained, ordered in rows, to this matrix\n",
    "vecmat = np.zeros((16,16), dtype = complex)\n",
    "vecmat[0,:] = S0.trans()[0][0]\n",
    "vecmat[1,:] = S1.trans()[0][0]\n",
    "vecmat[2,:] = T00.trans()[0][0]\n",
    "vecmat[3,:] = T01.trans()[0][0]\n",
    "vecmat[4,:] = T02.trans()[0][0]\n",
    "vecmat[5,:] = TP0.trans()[0][0]\n",
    "vecmat[6,:] = TP1.trans()[0][0]\n",
    "vecmat[7,:] = TP2.trans()[0][0]\n",
    "vecmat[8,:] = TM0.trans()[0][0]\n",
    "vecmat[9,:] = TM1.trans()[0][0]\n",
    "vecmat[10,:] = TM2.trans()[0][0]\n",
    "vecmat[11,:] = Q0.trans()[0][0]\n",
    "vecmat[12,:] = QP.trans()[0][0]\n",
    "vecmat[13,:] = QM.trans()[0][0]\n",
    "vecmat[14,:] = QPP.trans()[0][0]\n",
    "vecmat[15,:] = QMM.trans()[0][0]"
   ]
  },
  {
   "cell_type": "code",
   "execution_count": 15,
   "id": "d1bd43a7",
   "metadata": {},
   "outputs": [
    {
     "data": {
      "text/plain": [
       "'\\nvecmat[0,:] = S0.trans()[0][0]\\nvecmat[1,:] = S1.trans()[0][0]\\nvecmat[2,:] = T00.trans()[0][0]\\nvecmat[3,:] = TP0.trans()[0][0]\\nvecmat[4,:] = TM0.trans()[0][0]\\nvecmat[5,:] = T01.trans()[0][0]\\nvecmat[6,:] = TP1.trans()[0][0]\\nvecmat[7,:] = TM1.trans()[0][0]\\nvecmat[8,:] = T02.trans()[0][0]\\nvecmat[9,:] = TP2.trans()[0][0]\\nvecmat[10,:] = TM2.trans()[0][0]\\nvecmat[11,:] = Q0.trans()[0][0]\\nvecmat[12,:] = QP.trans()[0][0]\\nvecmat[13,:] = QM.trans()[0][0]\\nvecmat[14,:] = QPP.trans()[0][0]\\nvecmat[15,:] = QMM.trans()[0][0]\\n'"
      ]
     },
     "execution_count": 15,
     "metadata": {},
     "output_type": "execute_result"
    }
   ],
   "source": [
    "# We group them by same singlet/triplet/quintuplet close\n",
    "\"\"\"\n",
    "vecmat[0,:] = S0.trans()[0][0]\n",
    "vecmat[1,:] = S1.trans()[0][0]\n",
    "vecmat[2,:] = T00.trans()[0][0]\n",
    "vecmat[3,:] = TP0.trans()[0][0]\n",
    "vecmat[4,:] = TM0.trans()[0][0]\n",
    "vecmat[5,:] = T01.trans()[0][0]\n",
    "vecmat[6,:] = TP1.trans()[0][0]\n",
    "vecmat[7,:] = TM1.trans()[0][0]\n",
    "vecmat[8,:] = T02.trans()[0][0]\n",
    "vecmat[9,:] = TP2.trans()[0][0]\n",
    "vecmat[10,:] = TM2.trans()[0][0]\n",
    "vecmat[11,:] = Q0.trans()[0][0]\n",
    "vecmat[12,:] = QP.trans()[0][0]\n",
    "vecmat[13,:] = QM.trans()[0][0]\n",
    "vecmat[14,:] = QPP.trans()[0][0]\n",
    "vecmat[15,:] = QMM.trans()[0][0]\n",
    "\"\"\""
   ]
  },
  {
   "cell_type": "code",
   "execution_count": 16,
   "id": "48cc5eff",
   "metadata": {},
   "outputs": [],
   "source": [
    "# We turn our numpy array amtrix into a Quantum object and we print it\n",
    "VM = Qobj(vecmat)"
   ]
  },
  {
   "cell_type": "code",
   "execution_count": 17,
   "id": "4240d952",
   "metadata": {},
   "outputs": [
    {
     "name": "stdout",
     "output_type": "stream",
     "text": [
      "Quantum object: dims = [[16], [16]], shape = (16, 16), type = oper, isherm = False\n",
      "Qobj data =\n",
      "[[ 0.          0.          0.          0.          0.          0.5\n",
      "  -0.5         0.          0.         -0.5         0.5         0.\n",
      "   0.          0.          0.          0.        ]\n",
      " [ 0.          0.          0.          0.57735027  0.         -0.28867513\n",
      "  -0.28867513  0.          0.         -0.28867513 -0.28867513  0.\n",
      "   0.57735027  0.          0.          0.        ]\n",
      " [ 0.          0.          0.          0.          0.          0.5\n",
      "   0.5         0.          0.         -0.5        -0.5         0.\n",
      "   0.          0.          0.          0.        ]\n",
      " [ 0.          0.          0.          0.          0.          0.5\n",
      "  -0.5         0.          0.          0.5        -0.5         0.\n",
      "   0.          0.          0.          0.        ]\n",
      " [ 0.          0.          0.          0.70710678  0.          0.\n",
      "   0.          0.          0.          0.          0.          0.\n",
      "  -0.70710678  0.          0.          0.        ]\n",
      " [ 0.          0.          0.          0.          0.70710678  0.\n",
      "   0.          0.         -0.70710678  0.          0.          0.\n",
      "   0.          0.          0.          0.        ]\n",
      " [ 0.          0.70710678 -0.70710678  0.          0.          0.\n",
      "   0.          0.          0.          0.          0.          0.\n",
      "   0.          0.          0.          0.        ]\n",
      " [ 0.         -0.5        -0.5         0.          0.5         0.\n",
      "   0.          0.          0.5         0.          0.          0.\n",
      "   0.          0.          0.          0.        ]\n",
      " [ 0.          0.          0.          0.          0.          0.\n",
      "   0.          0.70710678  0.          0.          0.         -0.70710678\n",
      "   0.          0.          0.          0.        ]\n",
      " [ 0.          0.          0.          0.          0.          0.\n",
      "   0.          0.          0.          0.          0.          0.\n",
      "   0.          0.70710678 -0.70710678  0.        ]\n",
      " [ 0.          0.          0.          0.          0.          0.\n",
      "   0.          0.5         0.          0.          0.          0.5\n",
      "   0.         -0.5        -0.5         0.        ]\n",
      " [ 0.          0.          0.          0.40824829  0.          0.40824829\n",
      "   0.40824829  0.          0.          0.40824829  0.40824829  0.\n",
      "   0.40824829  0.          0.          0.        ]\n",
      " [ 0.          0.5         0.5         0.          0.5         0.\n",
      "   0.          0.          0.5         0.          0.          0.\n",
      "   0.          0.          0.          0.        ]\n",
      " [ 0.          0.          0.          0.          0.          0.\n",
      "   0.          0.5         0.          0.          0.          0.5\n",
      "   0.          0.5         0.5         0.        ]\n",
      " [ 1.          0.          0.          0.          0.          0.\n",
      "   0.          0.          0.          0.          0.          0.\n",
      "   0.          0.          0.          0.        ]\n",
      " [ 0.          0.          0.          0.          0.          0.\n",
      "   0.          0.          0.          0.          0.          0.\n",
      "   0.          0.          0.          1.        ]]\n"
     ]
    }
   ],
   "source": [
    "print(VM)"
   ]
  },
  {
   "cell_type": "code",
   "execution_count": 18,
   "id": "8c03a091",
   "metadata": {},
   "outputs": [],
   "source": [
    "# We finally apply this matrix basis-transf to our Hamiltonian\n",
    "Hp = H_QO.transform(VM) # Aparently vectors have to be in rows"
   ]
  },
  {
   "cell_type": "code",
   "execution_count": 19,
   "id": "715ec2f8",
   "metadata": {},
   "outputs": [
    {
     "data": {
      "text/latex": [
       "Quantum object: dims = [[2, 2, 2, 2], [2, 2, 2, 2]], shape = (16, 16), type = oper, isherm = True\\begin{equation*}\\left(\\begin{array}{*{11}c}-3.250 & 0.433 & 0.0 & 0.0 & 0.0 & \\cdots & 0.0 & 0.0 & 0.0 & 0.0 & 0.0\\\\0.433 & -0.750 & 0.0 & 0.0 & 0.0 & \\cdots & 0.0 & 0.0 & 0.0 & 0.0 & 0.0\\\\0.0 & 0.0 & -1.250 & -0.250 & 0.354 & \\cdots & 0.0 & 0.0 & 0.0 & 0.0 & 0.0\\\\0.0 & 0.0 & -0.250 & -2.250 & 0.354 & \\cdots & 0.0 & 0.0 & 0.0 & 0.0 & 0.0\\\\0.0 & 0.0 & 0.354 & 0.354 & -0.500 & \\cdots & 0.0 & 0.0 & 0.0 & 0.0 & 0.0\\\\\\vdots & \\vdots & \\vdots & \\vdots & \\vdots & \\ddots & \\vdots & \\vdots & \\vdots & \\vdots & \\vdots\\\\0.0 & 0.0 & 0.0 & 0.0 & 0.0 & \\cdots & 0.0 & 0.0 & 0.0 & 0.0 & 0.0\\\\0.0 & 0.0 & 0.0 & 0.0 & 0.0 & \\cdots & 0.0 & 0.0 & 0.0 & 0.0 & 0.0\\\\0.0 & 0.0 & 0.0 & 0.0 & 0.0 & \\cdots & 0.0 & 0.0 & 0.0 & 0.0 & 0.0\\\\0.0 & 0.0 & 0.0 & 0.0 & 0.0 & \\cdots & 0.0 & 0.0 & 0.0 & 0.0 & 0.0\\\\0.0 & 0.0 & 0.0 & 0.0 & 0.0 & \\cdots & 0.0 & 0.0 & 0.0 & 0.0 & 0.0\\\\\\end{array}\\right)\\end{equation*}"
      ],
      "text/plain": [
       "Quantum object: dims = [[2, 2, 2, 2], [2, 2, 2, 2]], shape = (16, 16), type = oper, isherm = True\n",
       "Qobj data =\n",
       "[[-3.25        0.4330127   0.          0.          0.          0.\n",
       "   0.          0.          0.          0.          0.          0.\n",
       "   0.          0.          0.          0.        ]\n",
       " [ 0.4330127  -0.75        0.          0.          0.          0.\n",
       "   0.          0.          0.          0.          0.          0.\n",
       "   0.          0.          0.          0.        ]\n",
       " [ 0.          0.         -1.25       -0.25        0.35355339  0.\n",
       "   0.          0.          0.          0.          0.          0.\n",
       "   0.          0.          0.          0.        ]\n",
       " [ 0.          0.         -0.25       -2.25        0.35355339  0.\n",
       "   0.          0.          0.          0.          0.          0.\n",
       "   0.          0.          0.          0.        ]\n",
       " [ 0.          0.          0.35355339  0.35355339 -0.5         0.\n",
       "   0.          0.          0.          0.          0.          0.\n",
       "   0.          0.          0.          0.        ]\n",
       " [ 0.          0.          0.          0.          0.         -1.25\n",
       "  -0.25       -0.35355339  0.          0.          0.          0.\n",
       "   0.          0.          0.          0.        ]\n",
       " [ 0.          0.          0.          0.          0.         -0.25\n",
       "  -2.25       -0.35355339  0.          0.          0.          0.\n",
       "   0.          0.          0.          0.        ]\n",
       " [ 0.          0.          0.          0.          0.         -0.35355339\n",
       "  -0.35355339 -0.5         0.          0.          0.          0.\n",
       "   0.          0.          0.          0.        ]\n",
       " [ 0.          0.          0.          0.          0.          0.\n",
       "   0.          0.         -1.25       -0.25        0.35355339  0.\n",
       "   0.          0.          0.          0.        ]\n",
       " [ 0.          0.          0.          0.          0.          0.\n",
       "   0.          0.         -0.25       -2.25        0.35355339  0.\n",
       "   0.          0.          0.          0.        ]\n",
       " [ 0.          0.          0.          0.          0.          0.\n",
       "   0.          0.          0.35355339  0.35355339 -0.5         0.\n",
       "   0.          0.          0.          0.        ]\n",
       " [ 0.          0.          0.          0.          0.          0.\n",
       "   0.          0.          0.          0.          0.          0.\n",
       "   0.          0.          0.          0.        ]\n",
       " [ 0.          0.          0.          0.          0.          0.\n",
       "   0.          0.          0.          0.          0.          0.\n",
       "   0.          0.          0.          0.        ]\n",
       " [ 0.          0.          0.          0.          0.          0.\n",
       "   0.          0.          0.          0.          0.          0.\n",
       "   0.          0.          0.          0.        ]\n",
       " [ 0.          0.          0.          0.          0.          0.\n",
       "   0.          0.          0.          0.          0.          0.\n",
       "   0.          0.          0.          0.        ]\n",
       " [ 0.          0.          0.          0.          0.          0.\n",
       "   0.          0.          0.          0.          0.          0.\n",
       "   0.          0.          0.          0.        ]]"
      ]
     },
     "execution_count": 19,
     "metadata": {},
     "output_type": "execute_result"
    }
   ],
   "source": [
    "# We print the Hamiltonian in the basis of interest (Quantum Object, Tridiagonal)\n",
    "Hp\n",
    "# See it is block diagonal (good)"
   ]
  },
  {
   "cell_type": "code",
   "execution_count": 20,
   "id": "a1d945ff",
   "metadata": {},
   "outputs": [
    {
     "name": "stderr",
     "output_type": "stream",
     "text": [
      "<ipython-input-20-27b1ff41dff1>:3: ComplexWarning: Casting complex values to real discards the imaginary part\n",
      "  plt.imshow(np.array(Hp).astype('float64'), alpha=0.8, cmap='YlGn_r')\n"
     ]
    },
    {
     "data": {
      "text/plain": [
       "<matplotlib.colorbar.Colorbar at 0x1c9dfdae610>"
      ]
     },
     "execution_count": 20,
     "metadata": {},
     "output_type": "execute_result"
    },
    {
     "data": {
      "image/png": "[encoded data removed]",
      "text/plain": [
       "<Figure size 432x288 with 2 Axes>"
      ]
     },
     "metadata": {
      "needs_background": "light"
     },
     "output_type": "display_data"
    }
   ],
   "source": [
    "# We see how it looks in a color map\n",
    "plt.figure()\n",
    "plt.imshow(np.array(Hp).astype('float64'), alpha=0.8, cmap='YlGn_r')\n",
    "plt.xlabel('Row')\n",
    "plt.ylabel('Column')\n",
    "plt.title('Matrix')\n",
    "plt.colorbar()"
   ]
  },
  {
   "cell_type": "code",
   "execution_count": 21,
   "id": "c0ee6b70",
   "metadata": {},
   "outputs": [],
   "source": [
    "# Now we need the manual transformation we did before but automated and general if possible\n",
    "# Setting the Hamiltonian to J23 = 0 and diagonalizing the Hamiltonian will lead to the coupled basis\n",
    "H_0 = term12 + term23 + term34 + mfieldterm # Check J23 = 0\n",
    "states = H_0.eigenstates()"
   ]
  },
  {
   "cell_type": "code",
   "execution_count": 22,
   "id": "b8635276",
   "metadata": {},
   "outputs": [],
   "source": [
    "# We print the states obtained from this diagonalization\n",
    "#print(states)"
   ]
  },
  {
   "cell_type": "code",
   "execution_count": 23,
   "id": "d04fe500",
   "metadata": {},
   "outputs": [
    {
     "name": "stderr",
     "output_type": "stream",
     "text": [
      "<ipython-input-23-f548d26a3933>:4: ComplexWarning: Casting complex values to real discards the imaginary part\n",
      "  states_matrix[i,:] = np.array(states[1][i].trans())[0]\n"
     ]
    }
   ],
   "source": [
    "# We ge the states matrix in an array form\n",
    "states_matrix = np.zeros((16, 16))\n",
    "for i in range(16):\n",
    "    states_matrix[i,:] = np.array(states[1][i].trans())[0]"
   ]
  },
  {
   "cell_type": "code",
   "execution_count": 24,
   "id": "6cf632ed",
   "metadata": {},
   "outputs": [
    {
     "name": "stdout",
     "output_type": "stream",
     "text": [
      "[ 0.        +0.j  0.        +0.j  0.        +0.j -0.09581999+0.j\n",
      "  0.        +0.j  0.54097581+0.j -0.44515582+0.j  0.        +0.j\n",
      "  0.        +0.j -0.44515582+0.j  0.54097581+0.j  0.        +0.j\n",
      " -0.09581999+0.j  0.        +0.j  0.        +0.j  0.        +0.j]\n",
      "[0.+0.j 0.+0.j 0.+0.j 0.+0.j 0.+0.j 0.+0.j 0.+0.j 0.+0.j 0.+0.j 0.+0.j\n",
      " 0.+0.j 0.+0.j 0.+0.j 0.+0.j 0.+0.j 1.+0.j]\n"
     ]
    }
   ],
   "source": [
    "# Compare them with the actual ones (again after magnetic field)\n",
    "print(np.array(states[1][0].trans())[0])\n",
    "print(vecmat[15,:])"
   ]
  },
  {
   "cell_type": "code",
   "execution_count": 25,
   "id": "1a39b357",
   "metadata": {},
   "outputs": [
    {
     "name": "stdout",
     "output_type": "stream",
     "text": [
      "[ 0.        +0.j  0.        +0.j  0.        +0.j -0.00228448+0.j\n",
      "  0.        +0.j  0.0087121 +0.j -0.00480375+0.j  0.0795342 +0.j\n",
      "  0.        +0.j  0.00480375+0.j -0.0087121 +0.j -0.30331215+0.j\n",
      "  0.00228448+0.j  0.77386683+0.j -0.55008889+0.j  0.        +0.j]\n",
      "[ 0. +0.j  0. +0.j  0. +0.j  0. +0.j  0. +0.j  0. +0.j  0. +0.j  0.5+0.j\n",
      "  0. +0.j  0. +0.j  0. +0.j  0.5+0.j  0. +0.j -0.5+0.j -0.5+0.j  0. +0.j]\n"
     ]
    }
   ],
   "source": [
    "print(np.array(states[1][1].trans())[0]) # This one is still not found\n",
    "print(vecmat[10,:])"
   ]
  },
  {
   "cell_type": "code",
   "execution_count": 26,
   "id": "1623481f",
   "metadata": {},
   "outputs": [],
   "source": [
    "# We apply the transformation anyways\n",
    "# We turn our numpy array amtrix into a Quantum object and we print it\n",
    "SM = Qobj(states_matrix)\n",
    "HSM = H_QO.transform(SM)"
   ]
  },
  {
   "cell_type": "code",
   "execution_count": 27,
   "id": "21285ea1",
   "metadata": {},
   "outputs": [
    {
     "name": "stderr",
     "output_type": "stream",
     "text": [
      "<ipython-input-27-9e4dbe629797>:3: ComplexWarning: Casting complex values to real discards the imaginary part\n",
      "  plt.imshow(np.array(HSM).astype('float64'), alpha=0.8, cmap='YlGn_r')\n"
     ]
    },
    {
     "data": {
      "text/plain": [
       "<matplotlib.colorbar.Colorbar at 0x1c9e04eb940>"
      ]
     },
     "execution_count": 27,
     "metadata": {},
     "output_type": "execute_result"
    },
    {
     "data": {
      "image/png": "[encoded data removed]",
      "text/plain": [
       "<Figure size 432x288 with 2 Axes>"
      ]
     },
     "metadata": {
      "needs_background": "light"
     },
     "output_type": "display_data"
    }
   ],
   "source": [
    "# We see how it looks in a color map\n",
    "plt.figure()\n",
    "plt.imshow(np.array(HSM).astype('float64'), alpha=0.8, cmap='YlGn_r')\n",
    "plt.xlabel('Row')\n",
    "plt.ylabel('Column')\n",
    "plt.title('Matrix')\n",
    "plt.colorbar()"
   ]
  },
  {
   "cell_type": "code",
   "execution_count": 28,
   "id": "28523920",
   "metadata": {},
   "outputs": [],
   "source": [
    "# Now we try to get the CG coefficients by brute force (see Devanathan)\n",
    "# Test for spin1/2 x spin1/2\n",
    "def A(j1, j2, j):\n",
    "    T1 = np.math.factorial(j1 + j2 - j)\n",
    "    T2 = np.math.factorial(j + j1 - j2)\n",
    "    T3 = np.math.factorial(j2 + j - j1)\n",
    "    T4 = np.math.factorial(j1 + j2 + j + 1)\n",
    "    return (T1*T2*T3)/T4"
   ]
  },
  {
   "cell_type": "code",
   "execution_count": 29,
   "id": "0e8ac865",
   "metadata": {},
   "outputs": [],
   "source": [
    "def B(j1, j2, j, m1, m2, m):\n",
    "    if j1 + m1 >= 0 and j1 - m1 >= 0 and j2 + m2 >= 0 and j2 - m2 >= 0 and j + m >= 0 and j - m >= 0:\n",
    "        T1 = np.math.factorial(j1 + m1)\n",
    "        T2 = np.math.factorial(j1 - m1)\n",
    "        T3 = np.math.factorial(j2 + m2)\n",
    "        T4 = np.math.factorial(j2 - m2)\n",
    "        T5 = np.math.factorial(j + m)\n",
    "        T6 = np.math.factorial(j - m)\n",
    "        return T1*T2*T3*T4*T5*T6\n",
    "    else:\n",
    "        return 0"
   ]
  },
  {
   "cell_type": "code",
   "execution_count": 30,
   "id": "38e9cd88",
   "metadata": {},
   "outputs": [],
   "source": [
    "def C(j1, j2, j, m1, m2, v):\n",
    "    T1 = np.math.factorial(j1 + j2 - j - v)\n",
    "    T2 = np.math.factorial(j1 - m1 - v)\n",
    "    T3 = np.math.factorial(j2 + m2 - v)\n",
    "    T4 = np.math.factorial(j - j2 + m1 + v)\n",
    "    T5 = np.math.factorial(j - j1 - m2 + v)\n",
    "    return T1*T2*T3*T4*T5"
   ]
  },
  {
   "cell_type": "code",
   "execution_count": 31,
   "id": "2322d0ba",
   "metadata": {},
   "outputs": [],
   "source": [
    "def CG(j1, j2, j, m1, m2, m):\n",
    "    \"\"\"It has been checked for spin1/2 x spin1/2 and it works\"\"\"\n",
    "    if m == m1+m2:\n",
    "        T1 = ((2*j + 1)*A(j1, j2, j)*B(j1, j2, j, m1, m2, m))**0.5\n",
    "        T2 = 0\n",
    "        for v in range(8): # this needs to be revised\n",
    "            if j1 + j2 - j - v >= 0 and j1 - m1 - v >= 0 and j2 + m2 - v >= 0 and j - j2 + m1 + v >= 0 and j - j1 - m2 + v >= 0:\n",
    "                T2 += (((-1)**v)*(C(j1, j2, j, m1, m2, v))**(-1))/np.math.factorial(v)\n",
    "            else:\n",
    "                continue\n",
    "        return T1*T2\n",
    "    else:\n",
    "        return 0\n",
    "# Note: when getting the full coefficients of a vector only the sum over say m1 needs to be done because m2 can be\n",
    "# found by m = m1 + m2\n",
    "# See next cell (update: not using this thing because otherwise we cannot use a for loop)"
   ]
  },
  {
   "cell_type": "code",
   "execution_count": 32,
   "id": "68f58c22",
   "metadata": {},
   "outputs": [],
   "source": [
    "# Here we intend to calculate the vector |J=0,M=0> in the product basis\n",
    "J0M0 = 0\n",
    "n = 0\n",
    "for m1 in 1/2,-1/2:\n",
    "    for m2 in 1/2,-1/2:\n",
    "        J0M0 += CG(1/2, 1/2, 0, m1, m2, 0)*basis(4,n)\n",
    "        n+=1"
   ]
  },
  {
   "cell_type": "code",
   "execution_count": 33,
   "id": "483e35d9",
   "metadata": {},
   "outputs": [
    {
     "data": {
      "text/latex": [
       "Quantum object: dims = [[4], [1]], shape = (4, 1), type = ket\\begin{equation*}\\left(\\begin{array}{*{11}c}0.0\\\\0.707\\\\-0.707\\\\0.0\\\\\\end{array}\\right)\\end{equation*}"
      ],
      "text/plain": [
       "Quantum object: dims = [[4], [1]], shape = (4, 1), type = ket\n",
       "Qobj data =\n",
       "[[ 0.        ]\n",
       " [ 0.70710678]\n",
       " [-0.70710678]\n",
       " [ 0.        ]]"
      ]
     },
     "execution_count": 33,
     "metadata": {},
     "output_type": "execute_result"
    }
   ],
   "source": [
    "J0M0"
   ]
  },
  {
   "cell_type": "code",
   "execution_count": 34,
   "id": "7afe0c9a",
   "metadata": {},
   "outputs": [],
   "source": [
    "# We want to extend this for composition of multiple spin\n",
    "# The for loop now has 3 layers and the Hilbert space has 8 basis vectors\n",
    "# We intend to caluclate the vector V = |J12=1, J=3/2, M=1/2>\n",
    "V = 0\n",
    "n = 0\n",
    "for m1 in 1/2,-1/2:\n",
    "    for m2 in 1/2,-1/2:\n",
    "        for m3 in 1/2,-1/2:\n",
    "            m12 = m1 + m2\n",
    "            V += CG(1/2, 1/2, 1, m1, m2, m12)*CG(1, 1/2, 3/2, m12, m3, 1/2)*basis(8,n)\n",
    "            n +=1"
   ]
  },
  {
   "cell_type": "code",
   "execution_count": 35,
   "id": "36489e3e",
   "metadata": {},
   "outputs": [
    {
     "data": {
      "text/latex": [
       "Quantum object: dims = [[8], [1]], shape = (8, 1), type = ket\\begin{equation*}\\left(\\begin{array}{*{11}c}0.0\\\\0.577\\\\0.577\\\\0.0\\\\0.577\\\\0.0\\\\0.0\\\\0.0\\\\\\end{array}\\right)\\end{equation*}"
      ],
      "text/plain": [
       "Quantum object: dims = [[8], [1]], shape = (8, 1), type = ket\n",
       "Qobj data =\n",
       "[[0.        ]\n",
       " [0.57735027]\n",
       " [0.57735027]\n",
       " [0.        ]\n",
       " [0.57735027]\n",
       " [0.        ]\n",
       " [0.        ]\n",
       " [0.        ]]"
      ]
     },
     "execution_count": 35,
     "metadata": {},
     "output_type": "execute_result"
    }
   ],
   "source": [
    "V"
   ]
  },
  {
   "cell_type": "code",
   "execution_count": 36,
   "id": "1c2e1ece",
   "metadata": {},
   "outputs": [],
   "source": [
    "# So far everything works, let's try to recover the vectors in 'vecmat' looping for four spin projections\n",
    "# We will start with the first one\n",
    "element0 = 0\n",
    "n = 0\n",
    "\n",
    "# Always valid\n",
    "j1=1/2\n",
    "j2=1/2\n",
    "j3=1/2\n",
    "j4=1/2\n",
    "\n",
    "for m1 in 1/2,-1/2:\n",
    "    for m2 in 1/2,-1/2:\n",
    "        for m3 in 1/2,-1/2:\n",
    "            for m4 in 1/2,-1/2:\n",
    "                m12 = m1 + m2\n",
    "                m123 = m12 + m3\n",
    "                \n",
    "                # This is just to test the first vector: j12=0, j123=1/2, j=0, m=0\n",
    "                j12=0\n",
    "                j123=1/2\n",
    "                j=0\n",
    "                m=0\n",
    "                \n",
    "                element0 += (CG(j1, j2, j12, m1, m2, m12)*CG(j12, j3, j123, m12, m3, m123)*CG(j123, j4, j, m123, m4, m))*basis(16, n)\n",
    "                n+=1"
   ]
  },
  {
   "cell_type": "code",
   "execution_count": 37,
   "id": "c90b3f23",
   "metadata": {},
   "outputs": [
    {
     "name": "stdout",
     "output_type": "stream",
     "text": [
      "Quantum object: dims = [[16], [1]], shape = (16, 1), type = ket\n",
      "Qobj data =\n",
      "[[ 0. ]\n",
      " [ 0. ]\n",
      " [ 0. ]\n",
      " [ 0. ]\n",
      " [ 0. ]\n",
      " [ 0.5]\n",
      " [-0.5]\n",
      " [ 0. ]\n",
      " [ 0. ]\n",
      " [-0.5]\n",
      " [ 0.5]\n",
      " [ 0. ]\n",
      " [ 0. ]\n",
      " [ 0. ]\n",
      " [ 0. ]\n",
      " [ 0. ]] Quantum object: dims = [[16], [1]], shape = (16, 1), type = ket\n",
      "Qobj data =\n",
      "[[ 0. ]\n",
      " [ 0. ]\n",
      " [ 0. ]\n",
      " [ 0. ]\n",
      " [ 0. ]\n",
      " [ 0.5]\n",
      " [-0.5]\n",
      " [ 0. ]\n",
      " [ 0. ]\n",
      " [-0.5]\n",
      " [ 0.5]\n",
      " [ 0. ]\n",
      " [ 0. ]\n",
      " [ 0. ]\n",
      " [ 0. ]\n",
      " [ 0. ]]\n"
     ]
    }
   ],
   "source": [
    "# Seems that it works for the first eignevector\n",
    "print(element0, Qobj(vecmat[0,:]))"
   ]
  },
  {
   "cell_type": "code",
   "execution_count": 38,
   "id": "9100f23a",
   "metadata": {},
   "outputs": [],
   "source": [
    "# It seems to work, now we want to create a matrix with all the eigenvectors\n",
    "# We first create an empty matrix 16 x 16\n",
    "fourspinmat = np.zeros((16,16), dtype = complex)\n",
    "# Now we put the individual total spin values\n",
    "j1 = 1/2\n",
    "j2 = 1/2\n",
    "j3 = 1/2\n",
    "j4 = 1/2\n",
    "spins = 4\n",
    "labels = np.zeros((16,4), dtype = float) # list of 4 labels for the 16 vectors (each vector (labels) in a row)"
   ]
  },
  {
   "cell_type": "code",
   "execution_count": 39,
   "id": "d31eaeb6",
   "metadata": {},
   "outputs": [],
   "source": [
    "# We define a composition function that gives us the total possible spins of a coupling of two spins\n",
    "def compose(j1, j2):\n",
    "    list12 = np.array([])\n",
    "\n",
    "    n12 = 0\n",
    "    while j1+j2-n12 >= 0 and j1+j2-n12 >= j1-j2:\n",
    "        element12 = j1+j2-n12\n",
    "        list12 = np.append(list12, element12)\n",
    "        n12 += 1\n",
    "    list12 = np.sort(list12)\n",
    "    return list12"
   ]
  },
  {
   "cell_type": "code",
   "execution_count": 40,
   "id": "24cd37fc",
   "metadata": {},
   "outputs": [],
   "source": [
    "# Now we proceed to couple them in order\n",
    "comp12 = compose(j1, j2)\n",
    "u = 0\n",
    "\n",
    "for totalspin12 in comp12:\n",
    "    comp23 = compose(totalspin12, j3)\n",
    "    for totalspin123 in comp23:\n",
    "        comp34 = compose(totalspin123, j4)\n",
    "        for totalspin in comp34:\n",
    "            k = 0\n",
    "            while totalspin - k >= -totalspin:\n",
    "                labels[u,0] = totalspin12\n",
    "                labels[u,1] = totalspin123\n",
    "                labels[u,2] = totalspin\n",
    "                labels[u,3] = totalspin-k\n",
    "                k +=1\n",
    "                u +=1"
   ]
  },
  {
   "cell_type": "code",
   "execution_count": 41,
   "id": "e416f58e",
   "metadata": {
    "scrolled": true
   },
   "outputs": [
    {
     "name": "stdout",
     "output_type": "stream",
     "text": [
      "[[ 0.   0.5  0.   0. ]\n",
      " [ 0.   0.5  1.   1. ]\n",
      " [ 0.   0.5  1.   0. ]\n",
      " [ 0.   0.5  1.  -1. ]\n",
      " [ 1.   0.5  0.   0. ]\n",
      " [ 1.   0.5  1.   1. ]\n",
      " [ 1.   0.5  1.   0. ]\n",
      " [ 1.   0.5  1.  -1. ]\n",
      " [ 1.   1.5  1.   1. ]\n",
      " [ 1.   1.5  1.   0. ]\n",
      " [ 1.   1.5  1.  -1. ]\n",
      " [ 1.   1.5  2.   2. ]\n",
      " [ 1.   1.5  2.   1. ]\n",
      " [ 1.   1.5  2.   0. ]\n",
      " [ 1.   1.5  2.  -1. ]\n",
      " [ 1.   1.5  2.  -2. ]]\n"
     ]
    }
   ],
   "source": [
    "# We check the labels matrix (sorted: j12, j123, j, m)\n",
    "print(labels)"
   ]
  },
  {
   "cell_type": "code",
   "execution_count": 42,
   "id": "d003703a",
   "metadata": {},
   "outputs": [],
   "source": [
    "# We order the array switching rows\n",
    "labels[[1, 4]] = labels[[4, 1]]\n",
    "labels[[3, 6]] = labels[[6, 3]]\n",
    "labels[[4, 9]] = labels[[9, 4]]\n",
    "labels[[6, 8]] = labels[[8, 6]]\n",
    "labels[[7, 9]] = labels[[9, 7]]"
   ]
  },
  {
   "cell_type": "code",
   "execution_count": 43,
   "id": "adfdc428",
   "metadata": {},
   "outputs": [
    {
     "name": "stdout",
     "output_type": "stream",
     "text": [
      "[[ 0.   0.5  0.   0. ]\n",
      " [ 1.   0.5  0.   0. ]\n",
      " [ 0.   0.5  1.   0. ]\n",
      " [ 1.   0.5  1.   0. ]\n",
      " [ 1.   1.5  1.   0. ]\n",
      " [ 1.   0.5  1.   1. ]\n",
      " [ 1.   1.5  1.   1. ]\n",
      " [ 0.   0.5  1.   1. ]\n",
      " [ 0.   0.5  1.  -1. ]\n",
      " [ 1.   0.5  1.  -1. ]\n",
      " [ 1.   1.5  1.  -1. ]\n",
      " [ 1.   1.5  2.   2. ]\n",
      " [ 1.   1.5  2.   1. ]\n",
      " [ 1.   1.5  2.   0. ]\n",
      " [ 1.   1.5  2.  -1. ]\n",
      " [ 1.   1.5  2.  -2. ]]\n"
     ]
    }
   ],
   "source": [
    "print(labels)"
   ]
  },
  {
   "cell_type": "code",
   "execution_count": 44,
   "id": "2675c188",
   "metadata": {},
   "outputs": [],
   "source": [
    "# We can finally get the full st of vectors to the fourspinmat matrix (we get the vectors in rows)\n",
    "# Always valid\n",
    "j1=1/2\n",
    "j2=1/2\n",
    "j3=1/2\n",
    "j4=1/2\n",
    "\n",
    "for i in range(16): # Vector index\n",
    "    eigenvector = 0 # We reset the eigenvector\n",
    "    n = 0 # Basis index\n",
    "    for m1 in 1/2,-1/2:\n",
    "        for m2 in 1/2,-1/2:\n",
    "            for m3 in 1/2,-1/2:\n",
    "                for m4 in 1/2,-1/2:\n",
    "                    m12 = m1 + m2\n",
    "                    m123 = m12 + m3\n",
    "\n",
    "                    j12 = labels[i,0] # first index vector index\n",
    "                    j123 = labels[i,1]\n",
    "                    j = labels[i,2]\n",
    "                    m = labels[i,3]\n",
    "\n",
    "                    eigenvector += (CG(j1, j2, j12, m1, m2, m12)*CG(j12, j3, j123, m12, m3, m123)*CG(j123, j4, j, m123, m4, m))*np.array(basis(16, n).trans())[0]\n",
    "                    n+=1\n",
    "\n",
    "    # Now we put the eigenvector into the matrix and follow with the next ones\n",
    "    fourspinmat[i,:] = eigenvector"
   ]
  },
  {
   "cell_type": "code",
   "execution_count": 45,
   "id": "c321cda6",
   "metadata": {},
   "outputs": [
    {
     "name": "stdout",
     "output_type": "stream",
     "text": [
      "[ 0. +0.j  0. +0.j  0. +0.j  0. +0.j  0. +0.j  0.5+0.j -0.5+0.j  0. +0.j\n",
      "  0. +0.j -0.5+0.j  0.5+0.j  0. +0.j  0. +0.j  0. +0.j  0. +0.j  0. +0.j]\n",
      "[ 0. +0.j  0. +0.j  0. +0.j  0. +0.j  0. +0.j  0.5+0.j -0.5+0.j  0. +0.j\n",
      "  0. +0.j -0.5+0.j  0.5+0.j  0. +0.j  0. +0.j  0. +0.j  0. +0.j  0. +0.j]\n"
     ]
    }
   ],
   "source": [
    "# We will try to correspond every vector in vecmat with the ones found here\n",
    "print(fourspinmat[0,:])\n",
    "print(vecmat[0,:])\n",
    "# Singlet"
   ]
  },
  {
   "cell_type": "code",
   "execution_count": 46,
   "id": "a3d367e2",
   "metadata": {},
   "outputs": [
    {
     "name": "stdout",
     "output_type": "stream",
     "text": [
      "[ 0.        +0.j  0.        +0.j  0.        +0.j  0.57735027+0.j\n",
      "  0.        +0.j -0.28867513+0.j -0.28867513+0.j  0.        +0.j\n",
      "  0.        +0.j -0.28867513+0.j -0.28867513+0.j  0.        +0.j\n",
      "  0.57735027+0.j  0.        +0.j  0.        +0.j  0.        +0.j]\n",
      "[ 0.        +0.j  0.        +0.j  0.        +0.j  0.        +0.j\n",
      "  0.70710678+0.j  0.        +0.j  0.        +0.j  0.        +0.j\n",
      " -0.70710678+0.j  0.        +0.j  0.        +0.j  0.        +0.j\n",
      "  0.        +0.j  0.        +0.j  0.        +0.j  0.        +0.j]\n"
     ]
    }
   ],
   "source": [
    "print(fourspinmat[1,:])\n",
    "print(vecmat[5,:])\n",
    "# Triplet 2"
   ]
  },
  {
   "cell_type": "code",
   "execution_count": 47,
   "id": "cdc44e8e",
   "metadata": {},
   "outputs": [
    {
     "name": "stdout",
     "output_type": "stream",
     "text": [
      "[ 0. +0.j  0. +0.j  0. +0.j  0. +0.j  0. +0.j  0.5+0.j  0.5+0.j  0. +0.j\n",
      "  0. +0.j -0.5+0.j -0.5+0.j  0. +0.j  0. +0.j  0. +0.j  0. +0.j  0. +0.j]\n",
      "[ 0. +0.j  0. +0.j  0. +0.j  0. +0.j  0. +0.j  0.5+0.j  0.5+0.j  0. +0.j\n",
      "  0. +0.j -0.5+0.j -0.5+0.j  0. +0.j  0. +0.j  0. +0.j  0. +0.j  0. +0.j]\n"
     ]
    }
   ],
   "source": [
    "print(fourspinmat[2,:])\n",
    "print(vecmat[2,:])\n",
    "# Triplet 1"
   ]
  },
  {
   "cell_type": "code",
   "execution_count": 48,
   "id": "2990169c",
   "metadata": {},
   "outputs": [
    {
     "name": "stdout",
     "output_type": "stream",
     "text": [
      "[ 0.        +0.j  0.        +0.j  0.        +0.j  0.57735027+0.j\n",
      "  0.        +0.j -0.28867513+0.j  0.28867513+0.j  0.        +0.j\n",
      "  0.        +0.j -0.28867513+0.j  0.28867513+0.j  0.        +0.j\n",
      " -0.57735027+0.j  0.        +0.j  0.        +0.j  0.        +0.j]\n",
      "[ 0.        +0.j  0.        +0.j  0.        +0.j  0.        +0.j\n",
      "  0.        +0.j  0.        +0.j  0.        +0.j  0.70710678+0.j\n",
      "  0.        +0.j  0.        +0.j  0.        +0.j -0.70710678+0.j\n",
      "  0.        +0.j  0.        +0.j  0.        +0.j  0.        +0.j]\n"
     ]
    }
   ],
   "source": [
    "print(fourspinmat[3,:])\n",
    "print(vecmat[8,:])\n",
    "# Triplet 3"
   ]
  },
  {
   "cell_type": "code",
   "execution_count": 49,
   "id": "5c7daf8f",
   "metadata": {},
   "outputs": [
    {
     "name": "stdout",
     "output_type": "stream",
     "text": [
      "[ 0.        +0.j  0.        +0.j  0.        +0.j  0.40824829+0.j\n",
      "  0.        +0.j  0.40824829+0.j -0.40824829+0.j  0.        +0.j\n",
      "  0.        +0.j  0.40824829+0.j -0.40824829+0.j  0.        +0.j\n",
      " -0.40824829+0.j  0.        +0.j  0.        +0.j  0.        +0.j]\n",
      "[ 0.        +0.j  0.        +0.j  0.        +0.j  0.57735027+0.j\n",
      "  0.        +0.j -0.28867513+0.j -0.28867513+0.j  0.        +0.j\n",
      "  0.        +0.j -0.28867513+0.j -0.28867513+0.j  0.        +0.j\n",
      "  0.57735027+0.j  0.        +0.j  0.        +0.j  0.        +0.j]\n"
     ]
    }
   ],
   "source": [
    "print(fourspinmat[4,:])\n",
    "print(vecmat[1,:])\n",
    "# Singlet"
   ]
  },
  {
   "cell_type": "code",
   "execution_count": 50,
   "id": "ef9745e9",
   "metadata": {},
   "outputs": [
    {
     "name": "stdout",
     "output_type": "stream",
     "text": [
      "[ 0.        +0.j  0.        +0.j  0.81649658+0.j  0.        +0.j\n",
      " -0.40824829+0.j  0.        +0.j  0.        +0.j  0.        +0.j\n",
      " -0.40824829+0.j  0.        +0.j  0.        +0.j  0.        +0.j\n",
      "  0.        +0.j  0.        +0.j  0.        +0.j  0.        +0.j]\n",
      "[ 0.        +0.j  0.        +0.j  0.        +0.j  0.        +0.j\n",
      "  0.70710678+0.j  0.        +0.j  0.        +0.j  0.        +0.j\n",
      " -0.70710678+0.j  0.        +0.j  0.        +0.j  0.        +0.j\n",
      "  0.        +0.j  0.        +0.j  0.        +0.j  0.        +0.j]\n"
     ]
    }
   ],
   "source": [
    "print(fourspinmat[5,:]) # This one does not correspond to any\n",
    "print(vecmat[5,:])"
   ]
  },
  {
   "cell_type": "code",
   "execution_count": 51,
   "id": "125183d0",
   "metadata": {},
   "outputs": [
    {
     "name": "stdout",
     "output_type": "stream",
     "text": [
      "[ 0.        +0.j  0.8660254 +0.j -0.28867513+0.j  0.        +0.j\n",
      " -0.28867513+0.j  0.        +0.j  0.        +0.j  0.        +0.j\n",
      " -0.28867513+0.j  0.        +0.j  0.        +0.j  0.        +0.j\n",
      "  0.        +0.j  0.        +0.j  0.        +0.j  0.        +0.j]\n",
      "[0.+0.j 0.+0.j 0.+0.j 0.+0.j 0.+0.j 0.+0.j 0.+0.j 0.+0.j 0.+0.j 0.+0.j\n",
      " 0.+0.j 0.+0.j 0.+0.j 0.+0.j 0.+0.j 1.+0.j]\n"
     ]
    }
   ],
   "source": [
    "print(fourspinmat[6,:]) # Any\n",
    "print(vecmat[15,:])"
   ]
  },
  {
   "cell_type": "code",
   "execution_count": 52,
   "id": "9ad68398",
   "metadata": {},
   "outputs": [
    {
     "name": "stdout",
     "output_type": "stream",
     "text": [
      "[ 0.        +0.j  0.        +0.j  0.        +0.j  0.        +0.j\n",
      "  0.70710678+0.j  0.        +0.j  0.        +0.j  0.        +0.j\n",
      " -0.70710678+0.j  0.        +0.j  0.        +0.j  0.        +0.j\n",
      "  0.        +0.j  0.        +0.j  0.        +0.j  0.        +0.j]\n",
      "[0.+0.j 0.+0.j 0.+0.j 0.+0.j 0.+0.j 0.+0.j 0.+0.j 0.+0.j 0.+0.j 0.+0.j\n",
      " 0.+0.j 0.+0.j 0.+0.j 0.+0.j 0.+0.j 1.+0.j]\n"
     ]
    }
   ],
   "source": [
    "print(fourspinmat[7,:]) # Any\n",
    "print(vecmat[15,:])"
   ]
  },
  {
   "cell_type": "code",
   "execution_count": 53,
   "id": "cc986ce2",
   "metadata": {},
   "outputs": [
    {
     "name": "stdout",
     "output_type": "stream",
     "text": [
      "[ 0.        +0.j  0.        +0.j  0.        +0.j  0.        +0.j\n",
      "  0.        +0.j  0.        +0.j  0.        +0.j  0.70710678+0.j\n",
      "  0.        +0.j  0.        +0.j  0.        +0.j -0.70710678+0.j\n",
      "  0.        +0.j  0.        +0.j  0.        +0.j  0.        +0.j]\n",
      "[0.+0.j 0.+0.j 0.+0.j 0.+0.j 0.+0.j 0.+0.j 0.+0.j 0.+0.j 0.+0.j 0.+0.j\n",
      " 0.+0.j 0.+0.j 0.+0.j 0.+0.j 0.+0.j 1.+0.j]\n"
     ]
    }
   ],
   "source": [
    "print(fourspinmat[8,:]) # Any\n",
    "print(vecmat[15,:])"
   ]
  },
  {
   "cell_type": "code",
   "execution_count": 54,
   "id": "29c2b132",
   "metadata": {},
   "outputs": [
    {
     "name": "stdout",
     "output_type": "stream",
     "text": [
      "[ 0.        +0.j  0.        +0.j  0.        +0.j  0.        +0.j\n",
      "  0.        +0.j  0.        +0.j  0.        +0.j  0.40824829+0.j\n",
      "  0.        +0.j  0.        +0.j  0.        +0.j  0.40824829+0.j\n",
      "  0.        +0.j -0.81649658+0.j  0.        +0.j  0.        +0.j]\n",
      "[ 0. +0.j  0. +0.j  0. +0.j  0. +0.j  0. +0.j  0.5+0.j -0.5+0.j  0. +0.j\n",
      "  0. +0.j  0.5+0.j -0.5+0.j  0. +0.j  0. +0.j  0. +0.j  0. +0.j  0. +0.j]\n"
     ]
    }
   ],
   "source": [
    "print(fourspinmat[9,:]) # Any\n",
    "print(vecmat[3,:])"
   ]
  },
  {
   "cell_type": "code",
   "execution_count": 55,
   "id": "02b7cb2e",
   "metadata": {},
   "outputs": [
    {
     "name": "stdout",
     "output_type": "stream",
     "text": [
      "[ 0.        +0.j  0.        +0.j  0.        +0.j  0.        +0.j\n",
      "  0.        +0.j  0.        +0.j  0.        +0.j  0.28867513+0.j\n",
      "  0.        +0.j  0.        +0.j  0.        +0.j  0.28867513+0.j\n",
      "  0.        +0.j  0.28867513+0.j -0.8660254 +0.j  0.        +0.j]\n",
      "[ 0. +0.j  0. +0.j  0. +0.j  0. +0.j  0. +0.j  0.5+0.j -0.5+0.j  0. +0.j\n",
      "  0. +0.j  0.5+0.j -0.5+0.j  0. +0.j  0. +0.j  0. +0.j  0. +0.j  0. +0.j]\n"
     ]
    }
   ],
   "source": [
    "print(fourspinmat[10,:]) # Any\n",
    "print(vecmat[3,:])"
   ]
  },
  {
   "cell_type": "code",
   "execution_count": 56,
   "id": "67950c2e",
   "metadata": {},
   "outputs": [
    {
     "name": "stdout",
     "output_type": "stream",
     "text": [
      "[1.+0.j 0.+0.j 0.+0.j 0.+0.j 0.+0.j 0.+0.j 0.+0.j 0.+0.j 0.+0.j 0.+0.j\n",
      " 0.+0.j 0.+0.j 0.+0.j 0.+0.j 0.+0.j 0.+0.j]\n",
      "[ 0.        +0.j  0.        +0.j  0.        +0.j  0.70710678+0.j\n",
      "  0.        +0.j  0.        +0.j  0.        +0.j  0.        +0.j\n",
      "  0.        +0.j  0.        +0.j  0.        +0.j  0.        +0.j\n",
      " -0.70710678+0.j  0.        +0.j  0.        +0.j  0.        +0.j]\n"
     ]
    }
   ],
   "source": [
    "print(fourspinmat[11,:])\n",
    "print(vecmat[4,:])\n",
    "# Quintuplet"
   ]
  },
  {
   "cell_type": "code",
   "execution_count": 57,
   "id": "d089a26a",
   "metadata": {},
   "outputs": [
    {
     "name": "stdout",
     "output_type": "stream",
     "text": [
      "[0. +0.j 0.5+0.j 0.5+0.j 0. +0.j 0.5+0.j 0. +0.j 0. +0.j 0. +0.j 0.5+0.j\n",
      " 0. +0.j 0. +0.j 0. +0.j 0. +0.j 0. +0.j 0. +0.j 0. +0.j]\n",
      "[0. +0.j 0.5+0.j 0.5+0.j 0. +0.j 0.5+0.j 0. +0.j 0. +0.j 0. +0.j 0.5+0.j\n",
      " 0. +0.j 0. +0.j 0. +0.j 0. +0.j 0. +0.j 0. +0.j 0. +0.j]\n"
     ]
    }
   ],
   "source": [
    "print(fourspinmat[12,:])\n",
    "print(vecmat[12,:])\n",
    "# Quintuplet"
   ]
  },
  {
   "cell_type": "code",
   "execution_count": 58,
   "id": "00dd8687",
   "metadata": {},
   "outputs": [
    {
     "name": "stdout",
     "output_type": "stream",
     "text": [
      "[0.        +0.j 0.        +0.j 0.        +0.j 0.40824829+0.j\n",
      " 0.        +0.j 0.40824829+0.j 0.40824829+0.j 0.        +0.j\n",
      " 0.        +0.j 0.40824829+0.j 0.40824829+0.j 0.        +0.j\n",
      " 0.40824829+0.j 0.        +0.j 0.        +0.j 0.        +0.j]\n",
      "[0.        +0.j 0.        +0.j 0.        +0.j 0.40824829+0.j\n",
      " 0.        +0.j 0.40824829+0.j 0.40824829+0.j 0.        +0.j\n",
      " 0.        +0.j 0.40824829+0.j 0.40824829+0.j 0.        +0.j\n",
      " 0.40824829+0.j 0.        +0.j 0.        +0.j 0.        +0.j]\n"
     ]
    }
   ],
   "source": [
    "print(fourspinmat[13,:])\n",
    "print(vecmat[11,:])\n",
    "# Quintuplet"
   ]
  },
  {
   "cell_type": "code",
   "execution_count": 59,
   "id": "085eeb75",
   "metadata": {},
   "outputs": [
    {
     "name": "stdout",
     "output_type": "stream",
     "text": [
      "[0. +0.j 0. +0.j 0. +0.j 0. +0.j 0. +0.j 0. +0.j 0. +0.j 0.5+0.j 0. +0.j\n",
      " 0. +0.j 0. +0.j 0.5+0.j 0. +0.j 0.5+0.j 0.5+0.j 0. +0.j]\n",
      "[0. +0.j 0. +0.j 0. +0.j 0. +0.j 0. +0.j 0. +0.j 0. +0.j 0.5+0.j 0. +0.j\n",
      " 0. +0.j 0. +0.j 0.5+0.j 0. +0.j 0.5+0.j 0.5+0.j 0. +0.j]\n"
     ]
    }
   ],
   "source": [
    "print(fourspinmat[14,:])\n",
    "print(vecmat[13,:])\n",
    "# Quintuplet"
   ]
  },
  {
   "cell_type": "code",
   "execution_count": 60,
   "id": "91c33d19",
   "metadata": {},
   "outputs": [
    {
     "name": "stdout",
     "output_type": "stream",
     "text": [
      "[0.+0.j 0.+0.j 0.+0.j 0.+0.j 0.+0.j 0.+0.j 0.+0.j 0.+0.j 0.+0.j 0.+0.j\n",
      " 0.+0.j 0.+0.j 0.+0.j 0.+0.j 0.+0.j 1.+0.j]\n",
      "[0.+0.j 0.+0.j 0.+0.j 0.+0.j 0.+0.j 0.+0.j 0.+0.j 0.+0.j 0.+0.j 0.+0.j\n",
      " 0.+0.j 0.+0.j 0.+0.j 0.+0.j 0.+0.j 1.+0.j]\n"
     ]
    }
   ],
   "source": [
    "print(fourspinmat[15,:])\n",
    "print(vecmat[15,:])\n",
    "# Quintuplet"
   ]
  },
  {
   "cell_type": "code",
   "execution_count": 61,
   "id": "ca3d119d",
   "metadata": {},
   "outputs": [],
   "source": [
    "# We will try with these eigenvectors obtained to change basis\n",
    "FSM = Qobj(fourspinmat)\n",
    "HM = H_QO.transform(FSM) # Aparently vectors have to be in rows"
   ]
  },
  {
   "cell_type": "code",
   "execution_count": 62,
   "id": "57bdcac5",
   "metadata": {},
   "outputs": [
    {
     "data": {
      "text/latex": [
       "Quantum object: dims = [[2, 2, 2, 2], [2, 2, 2, 2]], shape = (16, 16), type = oper, isherm = True\\begin{equation*}\\left(\\begin{array}{*{11}c}-3.250 & 0.433 & 0.0 & 0.0 & 0.0 & \\cdots & 0.0 & 0.0 & 0.0 & 0.0 & 0.0\\\\0.433 & -0.750 & 0.0 & 0.0 & 0.0 & \\cdots & 0.0 & 0.0 & 0.0 & 0.0 & 0.0\\\\0.0 & 0.0 & -1.250 & 0.433 & 0.0 & \\cdots & 0.0 & 0.0 & 0.0 & 0.0 & 0.0\\\\0.0 & 0.0 & 0.433 & -1.417 & 0.943 & \\cdots & 0.0 & 0.0 & 0.0 & 0.0 & 0.0\\\\0.0 & 0.0 & 0.0 & 0.943 & -1.333 & \\cdots & 0.0 & 0.0 & 0.0 & 0.0 & 0.0\\\\\\vdots & \\vdots & \\vdots & \\vdots & \\vdots & \\ddots & \\vdots & \\vdots & \\vdots & \\vdots & \\vdots\\\\0.0 & 0.0 & 0.0 & 0.0 & 0.0 & \\cdots & 0.0 & 0.0 & 0.0 & 0.0 & 0.0\\\\0.0 & 0.0 & 0.0 & 0.0 & 0.0 & \\cdots & 0.0 & 0.0 & 0.0 & 0.0 & 0.0\\\\0.0 & 0.0 & 0.0 & 0.0 & 0.0 & \\cdots & 0.0 & 0.0 & 0.0 & 0.0 & 0.0\\\\0.0 & 0.0 & 0.0 & 0.0 & 0.0 & \\cdots & 0.0 & 0.0 & 0.0 & 0.0 & 0.0\\\\0.0 & 0.0 & 0.0 & 0.0 & 0.0 & \\cdots & 0.0 & 0.0 & 0.0 & 0.0 & 0.0\\\\\\end{array}\\right)\\end{equation*}"
      ],
      "text/plain": [
       "Quantum object: dims = [[2, 2, 2, 2], [2, 2, 2, 2]], shape = (16, 16), type = oper, isherm = True\n",
       "Qobj data =\n",
       "[[-3.25        0.4330127   0.          0.          0.          0.\n",
       "   0.          0.          0.          0.          0.          0.\n",
       "   0.          0.          0.          0.        ]\n",
       " [ 0.4330127  -0.75        0.          0.          0.          0.\n",
       "   0.          0.          0.          0.          0.          0.\n",
       "   0.          0.          0.          0.        ]\n",
       " [ 0.          0.         -1.25        0.4330127   0.          0.\n",
       "   0.          0.          0.          0.          0.          0.\n",
       "   0.          0.          0.          0.        ]\n",
       " [ 0.          0.          0.4330127  -1.41666667  0.94280904  0.\n",
       "   0.          0.          0.          0.          0.          0.\n",
       "   0.          0.          0.          0.        ]\n",
       " [ 0.          0.          0.          0.94280904 -1.33333333  0.\n",
       "   0.          0.          0.          0.          0.          0.\n",
       "   0.          0.          0.          0.        ]\n",
       " [ 0.          0.          0.          0.          0.         -1.41666667\n",
       "   0.94280904  0.4330127   0.          0.          0.          0.\n",
       "   0.          0.          0.          0.        ]\n",
       " [ 0.          0.          0.          0.          0.          0.94280904\n",
       "  -1.33333333  0.          0.          0.          0.          0.\n",
       "   0.          0.          0.          0.        ]\n",
       " [ 0.          0.          0.          0.          0.          0.4330127\n",
       "   0.         -1.25        0.          0.          0.          0.\n",
       "   0.          0.          0.          0.        ]\n",
       " [ 0.          0.          0.          0.          0.          0.\n",
       "   0.          0.         -1.25        0.4330127   0.          0.\n",
       "   0.          0.          0.          0.        ]\n",
       " [ 0.          0.          0.          0.          0.          0.\n",
       "   0.          0.          0.4330127  -1.41666667  0.94280904  0.\n",
       "   0.          0.          0.          0.        ]\n",
       " [ 0.          0.          0.          0.          0.          0.\n",
       "   0.          0.          0.          0.94280904 -1.33333333  0.\n",
       "   0.          0.          0.          0.        ]\n",
       " [ 0.          0.          0.          0.          0.          0.\n",
       "   0.          0.          0.          0.          0.          0.\n",
       "   0.          0.          0.          0.        ]\n",
       " [ 0.          0.          0.          0.          0.          0.\n",
       "   0.          0.          0.          0.          0.          0.\n",
       "   0.          0.          0.          0.        ]\n",
       " [ 0.          0.          0.          0.          0.          0.\n",
       "   0.          0.          0.          0.          0.          0.\n",
       "   0.          0.          0.          0.        ]\n",
       " [ 0.          0.          0.          0.          0.          0.\n",
       "   0.          0.          0.          0.          0.          0.\n",
       "   0.          0.          0.          0.        ]\n",
       " [ 0.          0.          0.          0.          0.          0.\n",
       "   0.          0.          0.          0.          0.          0.\n",
       "   0.          0.          0.          0.        ]]"
      ]
     },
     "execution_count": 62,
     "metadata": {},
     "output_type": "execute_result"
    }
   ],
   "source": [
    "HM"
   ]
  },
  {
   "cell_type": "code",
   "execution_count": 63,
   "id": "2717b2e2",
   "metadata": {},
   "outputs": [
    {
     "name": "stderr",
     "output_type": "stream",
     "text": [
      "<ipython-input-63-10a1634b0467>:3: ComplexWarning: Casting complex values to real discards the imaginary part\n",
      "  plt.imshow(np.array(HM).astype('float64'), alpha=0.8, cmap='YlGn_r')\n"
     ]
    },
    {
     "data": {
      "text/plain": [
       "<matplotlib.colorbar.Colorbar at 0x1c9e05ba820>"
      ]
     },
     "execution_count": 63,
     "metadata": {},
     "output_type": "execute_result"
    },
    {
     "data": {
      "image/png": "[encoded data removed]",
      "text/plain": [
       "<Figure size 432x288 with 2 Axes>"
      ]
     },
     "metadata": {
      "needs_background": "light"
     },
     "output_type": "display_data"
    }
   ],
   "source": [
    "# We see how this looks like in a 2D plot\n",
    "plt.figure()\n",
    "plt.imshow(np.array(HM).astype('float64'), alpha=0.8, cmap='YlGn_r')\n",
    "plt.xlabel('Column')\n",
    "plt.ylabel('Row')\n",
    "plt.title('Matrix')\n",
    "plt.colorbar()"
   ]
  },
  {
   "cell_type": "code",
   "execution_count": 64,
   "id": "707283ef",
   "metadata": {},
   "outputs": [
    {
     "name": "stdout",
     "output_type": "stream",
     "text": [
      "[[ 0.  0.  0.  0.]\n",
      " [ 1.  1.  0.  0.]\n",
      " [ 0.  1.  1.  0.]\n",
      " [ 1.  0.  1.  0.]\n",
      " [ 1.  1.  1.  0.]\n",
      " [ 0.  1.  1.  1.]\n",
      " [ 1.  0.  1.  1.]\n",
      " [ 1.  1.  1.  1.]\n",
      " [ 0.  1.  1. -1.]\n",
      " [ 1.  0.  1. -1.]\n",
      " [ 1.  1.  1. -1.]\n",
      " [ 1.  1.  2. -2.]\n",
      " [ 1.  1.  2. -1.]\n",
      " [ 1.  1.  2.  0.]\n",
      " [ 1.  1.  2.  1.]\n",
      " [ 1.  1.  2.  2.]]\n"
     ]
    }
   ],
   "source": [
    "# We finally repeat the process but instead of composing J12 J123 J M we will use J12 J34 J M. We should see TABLE I states\n",
    "\n",
    "# It seems to work, now we want to create a matrix with all the eigenvectors\n",
    "# We first create an empty matrix 16 x 16\n",
    "fourspinmat = np.zeros((16,16), dtype = complex)\n",
    "# Now we put the individual total spin values\n",
    "j1 = 1/2\n",
    "j2 = 1/2\n",
    "j3 = 1/2\n",
    "j4 = 1/2\n",
    "spins = 4\n",
    "labels = np.zeros((16,4), dtype = float) # list of 4 labels for the 16 vectors (each vector (labels) in a row)\n",
    "\n",
    "# We input the labels matrix by hand\n",
    "labels[0][0] = 0\n",
    "labels[0][1] = 0\n",
    "labels[0][2] = 0\n",
    "labels[0][3] = 0\n",
    "\n",
    "labels[1][0] = 1\n",
    "labels[1][1] = 1\n",
    "labels[1][2] = 0\n",
    "labels[1][3] = 0\n",
    "\n",
    "labels[2][0] = 0\n",
    "labels[2][1] = 1\n",
    "labels[2][2] = 1\n",
    "labels[2][3] = 0\n",
    "\n",
    "labels[3][0] = 1\n",
    "labels[3][1] = 0\n",
    "labels[3][2] = 1\n",
    "labels[3][3] = 0\n",
    "\n",
    "labels[4][0] = 1\n",
    "labels[4][1] = 1\n",
    "labels[4][2] = 1\n",
    "labels[4][3] = 0\n",
    "\n",
    "labels[5][0] = 0\n",
    "labels[5][1] = 1\n",
    "labels[5][2] = 1\n",
    "labels[5][3] = 1\n",
    "\n",
    "labels[6][0] = 1\n",
    "labels[6][1] = 0\n",
    "labels[6][2] = 1\n",
    "labels[6][3] = 1\n",
    "\n",
    "labels[7][0] = 1\n",
    "labels[7][1] = 1\n",
    "labels[7][2] = 1\n",
    "labels[7][3] = 1\n",
    "\n",
    "labels[8][0] = 0\n",
    "labels[8][1] = 1\n",
    "labels[8][2] = 1\n",
    "labels[8][3] = -1\n",
    "\n",
    "labels[9][0] = 1\n",
    "labels[9][1] = 0\n",
    "labels[9][2] = 1\n",
    "labels[9][3] = -1\n",
    "\n",
    "labels[10][0] = 1\n",
    "labels[10][1] = 1\n",
    "labels[10][2] = 1\n",
    "labels[10][3] = -1\n",
    "\n",
    "labels[11][0] = 1\n",
    "labels[11][1] = 1\n",
    "labels[11][2] = 2\n",
    "labels[11][3] = -2\n",
    "\n",
    "labels[12][0] = 1\n",
    "labels[12][1] = 1\n",
    "labels[12][2] = 2\n",
    "labels[12][3] = -1\n",
    "\n",
    "labels[13][0] = 1\n",
    "labels[13][1] = 1\n",
    "labels[13][2] = 2\n",
    "labels[13][3] = 0\n",
    "\n",
    "labels[14][0] = 1\n",
    "labels[14][1] = 1\n",
    "labels[14][2] = 2\n",
    "labels[14][3] = 1\n",
    "\n",
    "labels[15][0] = 1\n",
    "labels[15][1] = 1\n",
    "labels[15][2] = 2\n",
    "labels[15][3] = 2\n",
    "\n",
    "# We print\n",
    "print(labels)"
   ]
  },
  {
   "cell_type": "code",
   "execution_count": 65,
   "id": "1912069b",
   "metadata": {},
   "outputs": [],
   "source": [
    "# We can finally get the full st of vectors to the fourspinmat matrix (we get the vectors in rows)\n",
    "# However, now we use CG coefficients for J12 J34 J M.\n",
    "# Always valid\n",
    "j1=1/2\n",
    "j2=1/2\n",
    "j3=1/2\n",
    "j4=1/2\n",
    "\n",
    "for i in range(16): # Vector index\n",
    "    eigenvector = 0 # We reset the eigenvector\n",
    "    n = 0 # Basis index\n",
    "    for m1 in 1/2,-1/2:\n",
    "        for m2 in 1/2,-1/2:\n",
    "            for m3 in 1/2,-1/2:\n",
    "                for m4 in 1/2,-1/2:\n",
    "                    m12 = m1 + m2\n",
    "                    m34 = m3 + m4\n",
    "\n",
    "                    j12 = labels[i,0] # first index vector index\n",
    "                    j34 = labels[i,1]\n",
    "                    j = labels[i,2]\n",
    "                    m = labels[i,3]\n",
    "\n",
    "                    eigenvector += (CG(j1, j2, j12, m1, m2, m12)*CG(j3, j4, j34, m3, m4, m34)*CG(j12, j34, j, m12, m34, m))*np.array(basis(16, n).trans())[0]\n",
    "                    n+=1\n",
    "\n",
    "    # Now we put the eigenvector into the matrix and follow with the next ones\n",
    "    fourspinmat[i,:] = eigenvector"
   ]
  },
  {
   "cell_type": "code",
   "execution_count": 66,
   "id": "f71737dc",
   "metadata": {},
   "outputs": [],
   "source": [
    "# We will try with these eigenvectors obtained to change basis\n",
    "FSM = Qobj(fourspinmat)\n",
    "HM = H_QO.transform(FSM) # Aparently vectors have to be in rows"
   ]
  },
  {
   "cell_type": "code",
   "execution_count": 67,
   "id": "57644bc5",
   "metadata": {},
   "outputs": [
    {
     "data": {
      "text/latex": [
       "Quantum object: dims = [[2, 2, 2, 2], [2, 2, 2, 2]], shape = (16, 16), type = oper, isherm = True\\begin{equation*}\\left(\\begin{array}{*{11}c}-3.250 & 0.433 & 0.0 & 0.0 & 0.0 & \\cdots & 0.0 & 0.0 & 0.0 & 0.0 & 0.0\\\\0.433 & -0.750 & 0.0 & 0.0 & 0.0 & \\cdots & 0.0 & 0.0 & 0.0 & 0.0 & 0.0\\\\0.0 & 0.0 & -1.250 & -0.250 & 0.354 & \\cdots & 0.0 & 0.0 & 0.0 & 0.0 & 0.0\\\\0.0 & 0.0 & -0.250 & -2.250 & 0.354 & \\cdots & 0.0 & 0.0 & 0.0 & 0.0 & 0.0\\\\0.0 & 0.0 & 0.354 & 0.354 & -0.500 & \\cdots & 0.0 & 0.0 & 0.0 & 0.0 & 0.0\\\\\\vdots & \\vdots & \\vdots & \\vdots & \\vdots & \\ddots & \\vdots & \\vdots & \\vdots & \\vdots & \\vdots\\\\0.0 & 0.0 & 0.0 & 0.0 & 0.0 & \\cdots & 0.0 & 0.0 & 0.0 & 0.0 & 0.0\\\\0.0 & 0.0 & 0.0 & 0.0 & 0.0 & \\cdots & 0.0 & 0.0 & 0.0 & 0.0 & 0.0\\\\0.0 & 0.0 & 0.0 & 0.0 & 0.0 & \\cdots & 0.0 & 0.0 & 0.0 & 0.0 & 0.0\\\\0.0 & 0.0 & 0.0 & 0.0 & 0.0 & \\cdots & 0.0 & 0.0 & 0.0 & 0.0 & 0.0\\\\0.0 & 0.0 & 0.0 & 0.0 & 0.0 & \\cdots & 0.0 & 0.0 & 0.0 & 0.0 & 0.0\\\\\\end{array}\\right)\\end{equation*}"
      ],
      "text/plain": [
       "Quantum object: dims = [[2, 2, 2, 2], [2, 2, 2, 2]], shape = (16, 16), type = oper, isherm = True\n",
       "Qobj data =\n",
       "[[-3.25        0.4330127   0.          0.          0.          0.\n",
       "   0.          0.          0.          0.          0.          0.\n",
       "   0.          0.          0.          0.        ]\n",
       " [ 0.4330127  -0.75        0.          0.          0.          0.\n",
       "   0.          0.          0.          0.          0.          0.\n",
       "   0.          0.          0.          0.        ]\n",
       " [ 0.          0.         -1.25       -0.25        0.35355339  0.\n",
       "   0.          0.          0.          0.          0.          0.\n",
       "   0.          0.          0.          0.        ]\n",
       " [ 0.          0.         -0.25       -2.25        0.35355339  0.\n",
       "   0.          0.          0.          0.          0.          0.\n",
       "   0.          0.          0.          0.        ]\n",
       " [ 0.          0.          0.35355339  0.35355339 -0.5         0.\n",
       "   0.          0.          0.          0.          0.          0.\n",
       "   0.          0.          0.          0.        ]\n",
       " [ 0.          0.          0.          0.          0.         -1.25\n",
       "  -0.25        0.35355339  0.          0.          0.          0.\n",
       "   0.          0.          0.          0.        ]\n",
       " [ 0.          0.          0.          0.          0.         -0.25\n",
       "  -2.25        0.35355339  0.          0.          0.          0.\n",
       "   0.          0.          0.          0.        ]\n",
       " [ 0.          0.          0.          0.          0.          0.35355339\n",
       "   0.35355339 -0.5         0.          0.          0.          0.\n",
       "   0.          0.          0.          0.        ]\n",
       " [ 0.          0.          0.          0.          0.          0.\n",
       "   0.          0.         -1.25       -0.25        0.35355339  0.\n",
       "   0.          0.          0.          0.        ]\n",
       " [ 0.          0.          0.          0.          0.          0.\n",
       "   0.          0.         -0.25       -2.25        0.35355339  0.\n",
       "   0.          0.          0.          0.        ]\n",
       " [ 0.          0.          0.          0.          0.          0.\n",
       "   0.          0.          0.35355339  0.35355339 -0.5         0.\n",
       "   0.          0.          0.          0.        ]\n",
       " [ 0.          0.          0.          0.          0.          0.\n",
       "   0.          0.          0.          0.          0.          0.\n",
       "   0.          0.          0.          0.        ]\n",
       " [ 0.          0.          0.          0.          0.          0.\n",
       "   0.          0.          0.          0.          0.          0.\n",
       "   0.          0.          0.          0.        ]\n",
       " [ 0.          0.          0.          0.          0.          0.\n",
       "   0.          0.          0.          0.          0.          0.\n",
       "   0.          0.          0.          0.        ]\n",
       " [ 0.          0.          0.          0.          0.          0.\n",
       "   0.          0.          0.          0.          0.          0.\n",
       "   0.          0.          0.          0.        ]\n",
       " [ 0.          0.          0.          0.          0.          0.\n",
       "   0.          0.          0.          0.          0.          0.\n",
       "   0.          0.          0.          0.        ]]"
      ]
     },
     "execution_count": 67,
     "metadata": {},
     "output_type": "execute_result"
    }
   ],
   "source": [
    "HM"
   ]
  },
  {
   "cell_type": "code",
   "execution_count": 68,
   "id": "fa267cd7",
   "metadata": {},
   "outputs": [
    {
     "name": "stderr",
     "output_type": "stream",
     "text": [
      "<ipython-input-68-10a1634b0467>:3: ComplexWarning: Casting complex values to real discards the imaginary part\n",
      "  plt.imshow(np.array(HM).astype('float64'), alpha=0.8, cmap='YlGn_r')\n"
     ]
    },
    {
     "data": {
      "text/plain": [
       "<matplotlib.colorbar.Colorbar at 0x1c9dfdf2220>"
      ]
     },
     "execution_count": 68,
     "metadata": {},
     "output_type": "execute_result"
    },
    {
     "data": {
      "image/png": "[encoded data removed]",
      "text/plain": [
       "<Figure size 432x288 with 2 Axes>"
      ]
     },
     "metadata": {
      "needs_background": "light"
     },
     "output_type": "display_data"
    }
   ],
   "source": [
    "# We see how this looks like in a 2D plot\n",
    "plt.figure()\n",
    "plt.imshow(np.array(HM).astype('float64'), alpha=0.8, cmap='YlGn_r')\n",
    "plt.xlabel('Column')\n",
    "plt.ylabel('Row')\n",
    "plt.title('Matrix')\n",
    "plt.colorbar()"
   ]
  },
  {
   "cell_type": "code",
   "execution_count": 69,
   "id": "c2e538b9",
   "metadata": {},
   "outputs": [
    {
     "name": "stderr",
     "output_type": "stream",
     "text": [
      "<ipython-input-69-b9c66891aeac>:4: ComplexWarning: Casting complex values to real discards the imaginary part\n",
      "  plt.imshow(np.array(Hp).astype('float64'), alpha=0.8, cmap='YlGn_r')\n"
     ]
    },
    {
     "data": {
      "text/plain": [
       "<matplotlib.colorbar.Colorbar at 0x1c9e06f9670>"
      ]
     },
     "execution_count": 69,
     "metadata": {},
     "output_type": "execute_result"
    },
    {
     "data": {
      "image/png": "[encoded data removed]",
      "text/plain": [
       "<Figure size 432x288 with 2 Axes>"
      ]
     },
     "metadata": {
      "needs_background": "light"
     },
     "output_type": "display_data"
    }
   ],
   "source": [
    "# We compare it with (manual) Hp again\n",
    "# We see how it looks in a color map\n",
    "plt.figure()\n",
    "plt.imshow(np.array(Hp).astype('float64'), alpha=0.8, cmap='YlGn_r')\n",
    "plt.xlabel('Row')\n",
    "plt.ylabel('Column')\n",
    "plt.title('Matrix')\n",
    "plt.colorbar()"
   ]
  },
  {
   "cell_type": "code",
   "execution_count": 70,
   "id": "54532353",
   "metadata": {},
   "outputs": [],
   "source": [
    "# Now that we get to have a basis that block diagonalizes our Hamiltonian we can keep going\n",
    "# We may finish automatizing the process properly and migrating important functions into a separate file"
   ]
  },
  {
   "cell_type": "code",
   "execution_count": null,
   "id": "8e5166fb",
   "metadata": {},
   "outputs": [],
   "source": []
  },
  {
   "cell_type": "code",
   "execution_count": null,
   "id": "5f8cfce4",
   "metadata": {},
   "outputs": [],
   "source": []
  },
  {
   "cell_type": "code",
   "execution_count": null,
   "id": "5f2be747",
   "metadata": {},
   "outputs": [],
   "source": []
  },
  {
   "cell_type": "code",
   "execution_count": null,
   "id": "c0709dd5",
   "metadata": {},
   "outputs": [],
   "source": []
  },
  {
   "cell_type": "code",
   "execution_count": null,
   "id": "1ce7ab3f",
   "metadata": {},
   "outputs": [],
   "source": []
  },
  {
   "cell_type": "code",
   "execution_count": null,
   "id": "c73a5095",
   "metadata": {},
   "outputs": [],
   "source": []
  },
  {
   "cell_type": "code",
   "execution_count": null,
   "id": "f92d9e80",
   "metadata": {},
   "outputs": [],
   "source": []
  },
  {
   "cell_type": "code",
   "execution_count": null,
   "id": "86804b47",
   "metadata": {},
   "outputs": [],
   "source": []
  },
  {
   "cell_type": "code",
   "execution_count": null,
   "id": "324c54ed",
   "metadata": {},
   "outputs": [],
   "source": []
  },
  {
   "cell_type": "code",
   "execution_count": null,
   "id": "b18dafe7",
   "metadata": {},
   "outputs": [],
   "source": []
  },
  {
   "cell_type": "code",
   "execution_count": null,
   "id": "eebe8d44",
   "metadata": {},
   "outputs": [],
   "source": []
  },
  {
   "cell_type": "code",
   "execution_count": null,
   "id": "2a0a0ecf",
   "metadata": {},
   "outputs": [],
   "source": []
  },
  {
   "cell_type": "code",
   "execution_count": null,
   "id": "7b00ffe2",
   "metadata": {},
   "outputs": [],
   "source": []
  },
  {
   "cell_type": "code",
   "execution_count": null,
   "id": "f165def6",
   "metadata": {},
   "outputs": [],
   "source": []
  },
  {
   "cell_type": "code",
   "execution_count": null,
   "id": "a265d977",
   "metadata": {},
   "outputs": [],
   "source": []
  },
  {
   "cell_type": "code",
   "execution_count": null,
   "id": "a0c4b5e7",
   "metadata": {},
   "outputs": [],
   "source": []
  },
  {
   "cell_type": "code",
   "execution_count": null,
   "id": "6442193c",
   "metadata": {},
   "outputs": [],
   "source": []
  },
  {
   "cell_type": "code",
   "execution_count": null,
   "id": "a176368b",
   "metadata": {},
   "outputs": [],
   "source": []
  },
  {
   "cell_type": "code",
   "execution_count": null,
   "id": "3cc97d18",
   "metadata": {},
   "outputs": [],
   "source": []
  },
  {
   "cell_type": "code",
   "execution_count": null,
   "id": "2aac8023",
   "metadata": {},
   "outputs": [],
   "source": []
  },
  {
   "cell_type": "code",
   "execution_count": 5,
   "id": "6285dea2",
   "metadata": {},
   "outputs": [
    {
     "name": "stdout",
     "output_type": "stream",
     "text": [
      "[Quantum object: dims = [[4], [1]], shape = (4, 1), type = ket\n",
      "Qobj data =\n",
      "[[ 0.        ]\n",
      " [ 0.70710678]\n",
      " [-0.70710678]\n",
      " [ 0.        ]], Quantum object: dims = [[4], [1]], shape = (4, 1), type = ket\n",
      "Qobj data =\n",
      "[[0.        ]\n",
      " [0.70710678]\n",
      " [0.70710678]\n",
      " [0.        ]], Quantum object: dims = [[4], [1]], shape = (4, 1), type = ket\n",
      "Qobj data =\n",
      "[[1.]\n",
      " [0.]\n",
      " [0.]\n",
      " [0.]], Quantum object: dims = [[4], [1]], shape = (4, 1), type = ket\n",
      "Qobj data =\n",
      "[[0.]\n",
      " [0.]\n",
      " [0.]\n",
      " [1.]]]\n"
     ]
    }
   ],
   "source": [
    "# Now we need to order the 16 tensor products from the 4 states above and put them into a matrix\n",
    "vec_list = [S, T0, Tplus, Tminus]\n",
    "print(vec_list)\n",
    "# Note that if use numpy arrays because the class becomes different from a Quantum Object"
   ]
  },
  {
   "cell_type": "code",
   "execution_count": 26,
   "id": "b8b36792",
   "metadata": {},
   "outputs": [
    {
     "name": "stdout",
     "output_type": "stream",
     "text": [
      "[0.+0.j 0.+0.j 0.+0.j 0.+0.j 0.+0.j 0.+0.j 0.+0.j 0.+0.j 0.+0.j 0.+0.j\n",
      " 0.+0.j 0.+0.j 0.+0.j 0.+0.j 0.+0.j 1.+0.j]\n",
      "<class 'numpy.ndarray'>\n"
     ]
    }
   ],
   "source": [
    "g = tensor(vector1, vector2)\n",
    "print(g.trans()[0][0])\n",
    "print(type(g.trans()[0][0]))"
   ]
  },
  {
   "cell_type": "code",
   "execution_count": 7,
   "id": "57eacb72",
   "metadata": {},
   "outputs": [],
   "source": [
    "# So now we do the tensor products and we put them (vectors) into a np.array called vectormatrix\n",
    "vectormatrix = np.zeros((16,16), dtype = complex)\n",
    "n = 0\n",
    "for vector1 in vec_list:\n",
    "    for vector2 in vec_list:\n",
    "        #print(tensor(vector1, vector2).trans()[0][0])\n",
    "        vectormatrix[:,n] = tensor(vector1, vector2).trans()[0][0] # vectormatrix[i,j] = vectormatrix[row,column]\n",
    "        n += 1"
   ]
  },
  {
   "cell_type": "code",
   "execution_count": 30,
   "id": "e049b241",
   "metadata": {},
   "outputs": [
    {
     "name": "stdout",
     "output_type": "stream",
     "text": [
      "Quantum object: dims = [[16], [16]], shape = (16, 16), type = oper, isherm = False\n",
      "Qobj data =\n",
      "[[ 0.          0.          0.          0.          0.          0.\n",
      "   0.          0.          0.          0.          1.          0.\n",
      "   0.          0.          0.          0.        ]\n",
      " [ 0.          0.          0.          0.          0.          0.\n",
      "   0.          0.          0.70710678  0.70710678  0.          0.\n",
      "   0.          0.          0.          0.        ]\n",
      " [ 0.          0.          0.          0.          0.          0.\n",
      "   0.          0.         -0.70710678  0.70710678  0.          0.\n",
      "   0.          0.          0.          0.        ]\n",
      " [ 0.          0.          0.          0.          0.          0.\n",
      "   0.          0.          0.          0.          0.          1.\n",
      "   0.          0.          0.          0.        ]\n",
      " [ 0.          0.          0.70710678  0.          0.          0.\n",
      "   0.70710678  0.          0.          0.          0.          0.\n",
      "   0.          0.          0.          0.        ]\n",
      " [ 0.5         0.5         0.          0.          0.5         0.5\n",
      "   0.          0.          0.          0.          0.          0.\n",
      "   0.          0.          0.          0.        ]\n",
      " [-0.5         0.5         0.          0.         -0.5         0.5\n",
      "   0.          0.          0.          0.          0.          0.\n",
      "   0.          0.          0.          0.        ]\n",
      " [ 0.          0.          0.          0.70710678  0.          0.\n",
      "   0.          0.70710678  0.          0.          0.          0.\n",
      "   0.          0.          0.          0.        ]\n",
      " [ 0.          0.         -0.70710678  0.          0.          0.\n",
      "   0.70710678  0.          0.          0.          0.          0.\n",
      "   0.          0.          0.          0.        ]\n",
      " [-0.5        -0.5         0.          0.          0.5         0.5\n",
      "   0.          0.          0.          0.          0.          0.\n",
      "   0.          0.          0.          0.        ]\n",
      " [ 0.5        -0.5         0.          0.         -0.5         0.5\n",
      "   0.          0.          0.          0.          0.          0.\n",
      "   0.          0.          0.          0.        ]\n",
      " [ 0.          0.          0.         -0.70710678  0.          0.\n",
      "   0.          0.70710678  0.          0.          0.          0.\n",
      "   0.          0.          0.          0.        ]\n",
      " [ 0.          0.          0.          0.          0.          0.\n",
      "   0.          0.          0.          0.          0.          0.\n",
      "   0.          0.          1.          0.        ]\n",
      " [ 0.          0.          0.          0.          0.          0.\n",
      "   0.          0.          0.          0.          0.          0.\n",
      "   0.70710678  0.70710678  0.          0.        ]\n",
      " [ 0.          0.          0.          0.          0.          0.\n",
      "   0.          0.          0.          0.          0.          0.\n",
      "  -0.70710678  0.70710678  0.          0.        ]\n",
      " [ 0.          0.          0.          0.          0.          0.\n",
      "   0.          0.          0.          0.          0.          0.\n",
      "   0.          0.          0.          1.        ]]\n"
     ]
    }
   ],
   "source": [
    "QV = Qobj(vectormatrix)\n",
    "print(QV)"
   ]
  },
  {
   "cell_type": "code",
   "execution_count": 15,
   "id": "989b0c8e",
   "metadata": {},
   "outputs": [],
   "source": [
    "# Once we have the matrix for the basios transformation we just have to basis transform\n",
    "\n",
    "Hprime = H.transform(vectormatrix)"
   ]
  },
  {
   "cell_type": "code",
   "execution_count": 19,
   "id": "1e47bd9e",
   "metadata": {},
   "outputs": [
    {
     "data": {
      "text/latex": [
       "Quantum object: dims = [[2, 2, 2, 2], [2, 2, 2, 2]], shape = (16, 16), type = oper, isherm = True\\begin{equation*}\\left(\\begin{array}{*{11}c}-1.500 & 0.354 & 0.354 & 0.0 & 0.354 & \\cdots & 0.0 & 0.0 & 0.354 & -0.354 & 0.0\\\\0.354 & -0.750 & -0.250 & 0.0 & 0.0 & \\cdots & 0.0 & 0.0 & 0.0 & 0.0 & 0.0\\\\0.354 & -0.250 & -0.750 & 0.0 & 0.0 & \\cdots & 0.0 & 0.0 & 0.0 & 0.0 & 0.0\\\\0.0 & 0.0 & 0.0 & -1.0 & 0.0 & \\cdots & 0.354 & 0.0 & 0.354 & 0.354 & 0.0\\\\0.354 & 0.0 & 0.0 & 0.0 & -1.000 & \\cdots & 0.0 & 0.0 & 0.0 & 0.0 & 0.0\\\\\\vdots & \\vdots & \\vdots & \\vdots & \\vdots & \\ddots & \\vdots & \\vdots & \\vdots & \\vdots & \\vdots\\\\0.0 & 0.0 & 0.0 & 0.354 & 0.0 & \\cdots & -0.500 & 0.0 & 0.0 & 0.0 & 0.0\\\\0.0 & 0.0 & 0.0 & 0.0 & 0.0 & \\cdots & 0.0 & -0.500 & 0.354 & 0.354 & 0.0\\\\0.354 & 0.0 & 0.0 & 0.354 & 0.0 & \\cdots & 0.0 & 0.354 & -0.750 & -0.250 & 0.0\\\\-0.354 & 0.0 & 0.0 & 0.354 & 0.0 & \\cdots & 0.0 & 0.354 & -0.250 & -0.750 & 0.0\\\\0.0 & 0.0 & 0.0 & 0.0 & 0.0 & \\cdots & 0.0 & 0.0 & 0.0 & 0.0 & 0.0\\\\\\end{array}\\right)\\end{equation*}"
      ],
      "text/plain": [
       "Quantum object: dims = [[2, 2, 2, 2], [2, 2, 2, 2]], shape = (16, 16), type = oper, isherm = True\n",
       "Qobj data =\n",
       "[[-1.5         0.35355339  0.35355339  0.          0.35355339  0.\n",
       "   0.          0.          0.35355339  0.          0.          0.\n",
       "   0.          0.35355339 -0.35355339  0.        ]\n",
       " [ 0.35355339 -0.75       -0.25        0.          0.          0.35355339\n",
       "   0.          0.          0.          0.35355339  0.          0.\n",
       "   0.          0.          0.          0.        ]\n",
       " [ 0.35355339 -0.25       -0.75        0.          0.          0.\n",
       "   0.35355339  0.          0.          0.          0.35355339  0.\n",
       "   0.          0.          0.          0.        ]\n",
       " [ 0.          0.          0.         -1.          0.          0.\n",
       "   0.          0.35355339  0.          0.          0.          0.35355339\n",
       "   0.          0.35355339  0.35355339  0.        ]\n",
       " [ 0.35355339  0.          0.          0.         -1.          0.53033009\n",
       "   0.1767767   0.          0.          0.1767767  -0.1767767   0.\n",
       "   0.          0.          0.          0.        ]\n",
       " [ 0.          0.35355339  0.          0.          0.53033009 -0.75\n",
       "  -0.25        0.1767767  -0.1767767  -0.5         0.         -0.1767767\n",
       "   0.          0.          0.          0.        ]\n",
       " [ 0.          0.          0.35355339  0.          0.1767767  -0.25\n",
       "  -0.75        0.1767767   0.1767767   0.         -0.5        -0.1767767\n",
       "   0.          0.          0.          0.        ]\n",
       " [ 0.          0.          0.          0.35355339  0.          0.1767767\n",
       "   0.1767767  -0.5         0.          0.1767767   0.1767767   0.\n",
       "   0.          0.          0.          0.        ]\n",
       " [ 0.35355339  0.          0.          0.          0.         -0.1767767\n",
       "   0.1767767   0.         -1.          0.1767767   0.53033009  0.\n",
       "   0.          0.          0.          0.        ]\n",
       " [ 0.          0.35355339  0.          0.          0.1767767  -0.5\n",
       "   0.          0.1767767   0.1767767  -0.75       -0.25       -0.1767767\n",
       "   0.          0.          0.          0.        ]\n",
       " [ 0.          0.          0.35355339  0.         -0.1767767   0.\n",
       "  -0.5         0.1767767   0.53033009 -0.25       -0.75       -0.1767767\n",
       "   0.          0.          0.          0.        ]\n",
       " [ 0.          0.          0.          0.35355339  0.         -0.1767767\n",
       "  -0.1767767   0.          0.         -0.1767767  -0.1767767  -0.5\n",
       "   0.          0.          0.          0.        ]\n",
       " [ 0.          0.          0.          0.          0.          0.\n",
       "   0.          0.          0.          0.          0.          0.\n",
       "  -0.5         0.35355339  0.35355339  0.        ]\n",
       " [ 0.35355339  0.          0.          0.35355339  0.          0.\n",
       "   0.          0.          0.          0.          0.          0.\n",
       "   0.35355339 -0.75       -0.25        0.        ]\n",
       " [-0.35355339  0.          0.          0.35355339  0.          0.\n",
       "   0.          0.          0.          0.          0.          0.\n",
       "   0.35355339 -0.25       -0.75        0.        ]\n",
       " [ 0.          0.          0.          0.          0.          0.\n",
       "   0.          0.          0.          0.          0.          0.\n",
       "   0.          0.          0.          0.        ]]"
      ]
     },
     "execution_count": 19,
     "metadata": {},
     "output_type": "execute_result"
    }
   ],
   "source": [
    "Hprime"
   ]
  },
  {
   "cell_type": "code",
   "execution_count": null,
   "id": "057b95f1",
   "metadata": {},
   "outputs": [],
   "source": []
  },
  {
   "cell_type": "code",
   "execution_count": null,
   "id": "5a3f45b7",
   "metadata": {},
   "outputs": [],
   "source": []
  },
  {
   "cell_type": "code",
   "execution_count": null,
   "id": "5f70b32e",
   "metadata": {},
   "outputs": [],
   "source": []
  },
  {
   "cell_type": "code",
   "execution_count": 22,
   "id": "93142f87",
   "metadata": {},
   "outputs": [],
   "source": [
    "I = sigmax()\n",
    "ket1 = (basis(2,0) + basis(2,1)).unit()\n",
    "ket2 = (7*basis(2,0) - basis(2,1)).unit()"
   ]
  },
  {
   "cell_type": "code",
   "execution_count": 23,
   "id": "40bdec46",
   "metadata": {},
   "outputs": [
    {
     "data": {
      "text/latex": [
       "Quantum object: dims = [[2], [1]], shape = (2, 1), type = ket\\begin{equation*}\\left(\\begin{array}{*{11}c}0.707\\\\0.707\\\\\\end{array}\\right)\\end{equation*}"
      ],
      "text/plain": [
       "Quantum object: dims = [[2], [1]], shape = (2, 1), type = ket\n",
       "Qobj data =\n",
       "[[0.70710678]\n",
       " [0.70710678]]"
      ]
     },
     "execution_count": 23,
     "metadata": {},
     "output_type": "execute_result"
    }
   ],
   "source": [
    "ket1"
   ]
  },
  {
   "cell_type": "code",
   "execution_count": 24,
   "id": "95fc3f01",
   "metadata": {},
   "outputs": [
    {
     "data": {
      "text/latex": [
       "Quantum object: dims = [[2], [2]], shape = (2, 2), type = oper, isherm = True\\begin{equation*}\\left(\\begin{array}{*{11}c}0.0 & 1.0\\\\1.0 & 0.0\\\\\\end{array}\\right)\\end{equation*}"
      ],
      "text/plain": [
       "Quantum object: dims = [[2], [2]], shape = (2, 2), type = oper, isherm = True\n",
       "Qobj data =\n",
       "[[0. 1.]\n",
       " [1. 0.]]"
      ]
     },
     "execution_count": 24,
     "metadata": {},
     "output_type": "execute_result"
    }
   ],
   "source": [
    "I"
   ]
  },
  {
   "cell_type": "code",
   "execution_count": 25,
   "id": "6e78c4c9",
   "metadata": {},
   "outputs": [
    {
     "data": {
      "text/latex": [
       "Quantum object: dims = [[2], [2]], shape = (2, 2), type = oper, isherm = True\\begin{equation*}\\left(\\begin{array}{*{11}c}1.000 & 0.600\\\\0.600 & -0.280\\\\\\end{array}\\right)\\end{equation*}"
      ],
      "text/plain": [
       "Quantum object: dims = [[2], [2]], shape = (2, 2), type = oper, isherm = True\n",
       "Qobj data =\n",
       "[[ 1.    0.6 ]\n",
       " [ 0.6  -0.28]]"
      ]
     },
     "execution_count": 25,
     "metadata": {},
     "output_type": "execute_result"
    }
   ],
   "source": [
    "I.transform([ket1,ket2])"
   ]
  },
  {
   "cell_type": "code",
   "execution_count": 26,
   "id": "91da918c",
   "metadata": {},
   "outputs": [],
   "source": [
    "vector_matrix = np.c_[ket1,ket2] # Here we lose the Quantum Object class"
   ]
  },
  {
   "cell_type": "code",
   "execution_count": 27,
   "id": "e73e855e",
   "metadata": {},
   "outputs": [
    {
     "data": {
      "text/plain": [
       "array([[ 0.70710678+0.j,  0.98994949+0.j],\n",
       "       [ 0.70710678+0.j, -0.14142136+0.j]])"
      ]
     },
     "execution_count": 27,
     "metadata": {},
     "output_type": "execute_result"
    }
   ],
   "source": [
    "vector_matrix"
   ]
  },
  {
   "cell_type": "code",
   "execution_count": 81,
   "id": "4fee7559",
   "metadata": {},
   "outputs": [],
   "source": [
    "I = sigmax()"
   ]
  },
  {
   "cell_type": "code",
   "execution_count": 82,
   "id": "6c7925c0",
   "metadata": {},
   "outputs": [
    {
     "data": {
      "text/latex": [
       "Quantum object: dims = [[2], [2]], shape = (2, 2), type = oper, isherm = True\\begin{equation*}\\left(\\begin{array}{*{11}c}0.0 & 1.0\\\\1.0 & 0.0\\\\\\end{array}\\right)\\end{equation*}"
      ],
      "text/plain": [
       "Quantum object: dims = [[2], [2]], shape = (2, 2), type = oper, isherm = True\n",
       "Qobj data =\n",
       "[[0. 1.]\n",
       " [1. 0.]]"
      ]
     },
     "execution_count": 82,
     "metadata": {},
     "output_type": "execute_result"
    }
   ],
   "source": [
    "I"
   ]
  },
  {
   "cell_type": "code",
   "execution_count": 29,
   "id": "10d15b02",
   "metadata": {},
   "outputs": [
    {
     "data": {
      "text/latex": [
       "Quantum object: dims = [[2], [2]], shape = (2, 2), type = oper, isherm = True\\begin{equation*}\\left(\\begin{array}{*{11}c}1.000 & 0.600\\\\0.600 & -0.280\\\\\\end{array}\\right)\\end{equation*}"
      ],
      "text/plain": [
       "Quantum object: dims = [[2], [2]], shape = (2, 2), type = oper, isherm = True\n",
       "Qobj data =\n",
       "[[ 1.    0.6 ]\n",
       " [ 0.6  -0.28]]"
      ]
     },
     "execution_count": 29,
     "metadata": {},
     "output_type": "execute_result"
    }
   ],
   "source": [
    "I.transform(vector_matrix.transpose())"
   ]
  },
  {
   "cell_type": "code",
   "execution_count": 24,
   "id": "f33843f7",
   "metadata": {},
   "outputs": [
    {
     "data": {
      "text/plain": [
       "array([-2.36602540e+00, -1.70710678e+00, -1.70710678e+00, -1.70710678e+00,\n",
       "       -1.00000000e+00, -1.00000000e+00, -1.00000000e+00, -6.33974596e-01,\n",
       "       -2.92893219e-01, -2.92893219e-01, -2.92893219e-01, -3.74842964e-17,\n",
       "       -2.52254174e-17,  0.00000000e+00,  0.00000000e+00,  3.20257775e-16])"
      ]
     },
     "execution_count": 24,
     "metadata": {},
     "output_type": "execute_result"
    }
   ],
   "source": [
    "H.eigenenergies()"
   ]
  },
  {
   "cell_type": "code",
   "execution_count": null,
   "id": "21fabdaf",
   "metadata": {},
   "outputs": [],
   "source": [
    "H.eigenstates()"
   ]
  },
  {
   "cell_type": "code",
   "execution_count": 25,
   "id": "9b14f708",
   "metadata": {},
   "outputs": [],
   "source": [
    "SS = tensor(S, S)"
   ]
  },
  {
   "cell_type": "code",
   "execution_count": 27,
   "id": "a6c3b28b",
   "metadata": {},
   "outputs": [
    {
     "name": "stdout",
     "output_type": "stream",
     "text": [
      "Quantum object: dims = [[4, 4], [1, 1]], shape = (16, 1), type = ket\n",
      "Qobj data =\n",
      "[[ 0. ]\n",
      " [ 0. ]\n",
      " [ 0. ]\n",
      " [ 0. ]\n",
      " [ 0. ]\n",
      " [ 0.5]\n",
      " [-0.5]\n",
      " [ 0. ]\n",
      " [ 0. ]\n",
      " [-0.5]\n",
      " [ 0.5]\n",
      " [ 0. ]\n",
      " [ 0. ]\n",
      " [ 0. ]\n",
      " [ 0. ]\n",
      " [ 0. ]]\n"
     ]
    }
   ],
   "source": [
    "print(SS)"
   ]
  },
  {
   "cell_type": "code",
   "execution_count": 28,
   "id": "97a43997",
   "metadata": {},
   "outputs": [],
   "source": [
    "ST0 = tensor(S, T0)"
   ]
  },
  {
   "cell_type": "code",
   "execution_count": 29,
   "id": "e13cff02",
   "metadata": {},
   "outputs": [
    {
     "name": "stdout",
     "output_type": "stream",
     "text": [
      "Quantum object: dims = [[4, 4], [1, 1]], shape = (16, 1), type = ket\n",
      "Qobj data =\n",
      "[[ 0. ]\n",
      " [ 0. ]\n",
      " [ 0. ]\n",
      " [ 0. ]\n",
      " [ 0. ]\n",
      " [ 0.5]\n",
      " [ 0.5]\n",
      " [ 0. ]\n",
      " [ 0. ]\n",
      " [-0.5]\n",
      " [-0.5]\n",
      " [ 0. ]\n",
      " [ 0. ]\n",
      " [ 0. ]\n",
      " [ 0. ]\n",
      " [ 0. ]]\n"
     ]
    }
   ],
   "source": [
    "print(ST0)"
   ]
  },
  {
   "cell_type": "code",
   "execution_count": 30,
   "id": "7247171b",
   "metadata": {},
   "outputs": [],
   "source": [
    "STplus = tensor(S, Tplus)"
   ]
  },
  {
   "cell_type": "code",
   "execution_count": 32,
   "id": "8e0348d3",
   "metadata": {},
   "outputs": [
    {
     "name": "stdout",
     "output_type": "stream",
     "text": [
      "Quantum object: dims = [[4, 4], [1, 1]], shape = (16, 1), type = ket\n",
      "Qobj data =\n",
      "[[ 0.        ]\n",
      " [ 0.        ]\n",
      " [ 0.        ]\n",
      " [ 0.        ]\n",
      " [ 0.70710678]\n",
      " [ 0.        ]\n",
      " [ 0.        ]\n",
      " [ 0.        ]\n",
      " [-0.70710678]\n",
      " [ 0.        ]\n",
      " [ 0.        ]\n",
      " [ 0.        ]\n",
      " [ 0.        ]\n",
      " [ 0.        ]\n",
      " [ 0.        ]\n",
      " [ 0.        ]]\n"
     ]
    }
   ],
   "source": [
    "print(STplus)"
   ]
  },
  {
   "cell_type": "code",
   "execution_count": 56,
   "id": "92410533",
   "metadata": {},
   "outputs": [],
   "source": [
    "a = np.zeros((2,2))"
   ]
  },
  {
   "cell_type": "code",
   "execution_count": 57,
   "id": "b755b151",
   "metadata": {},
   "outputs": [
    {
     "name": "stdout",
     "output_type": "stream",
     "text": [
      "[[0. 0.]\n",
      " [0. 0.]]\n"
     ]
    }
   ],
   "source": [
    "print(a)"
   ]
  },
  {
   "cell_type": "code",
   "execution_count": 58,
   "id": "29c55422",
   "metadata": {},
   "outputs": [],
   "source": [
    "a[0,:]=1"
   ]
  },
  {
   "cell_type": "code",
   "execution_count": 59,
   "id": "cb22f86b",
   "metadata": {},
   "outputs": [
    {
     "name": "stdout",
     "output_type": "stream",
     "text": [
      "[[1. 1.]\n",
      " [0. 0.]]\n"
     ]
    }
   ],
   "source": [
    "print(a)"
   ]
  },
  {
   "cell_type": "code",
   "execution_count": null,
   "id": "7cd84d1d",
   "metadata": {},
   "outputs": [],
   "source": []
  }
 ],
 "metadata": {
  "kernelspec": {
   "display_name": "Python 3",
   "language": "python",
   "name": "python3"
  },
  "language_info": {
   "codemirror_mode": {
    "name": "ipython",
    "version": 3
   },
   "file_extension": ".py",
   "mimetype": "text/x-python",
   "name": "python",
   "nbconvert_exporter": "python",
   "pygments_lexer": "ipython3",
   "version": "3.8.8"
  }
 },
 "nbformat": 4,
 "nbformat_minor": 5
}
